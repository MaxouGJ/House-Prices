{
 "cells": [
  {
   "cell_type": "markdown",
   "metadata": {},
   "source": [
    "# [IFT 6390] Projet : Prédiction du prix d'une maison"
   ]
  },
  {
   "cell_type": "markdown",
   "metadata": {},
   "source": [
    "## Données\n",
    "\n",
    "<dl>\n",
    "<dt>1\n",
    "MSSubClass: Identifies the type of dwelling involved in the sale.\n",
    "</dt>\n",
    "<dd><ul>\n",
    "<li>20\t1-STORY 1946 & NEWER ALL STYLES</li>\n",
    "<li>30\t1-STORY 1945 & OLDER</li>\n",
    "<li>40\t1-STORY W/FINISHED ATTIC ALL AGES</li>\n",
    "<li>45\t1-1/2 STORY - UNFINISHED ALL AGES</li>\n",
    "<li>50\t1-1/2 STORY FINISHED ALL AGES</li>\n",
    "<li>60\t2-STORY 1946 & NEWER</li>\n",
    "<li>70\t2-STORY 1945 & OLDER</li>\n",
    "<li>75\t2-1/2 STORY ALL AGES</li>\n",
    "<li>80\tSPLIT OR MULTI-LEVEL</li>\n",
    "<li>85\tSPLIT FOYER</li>\n",
    "<li>90\tDUPLEX - ALL STYLES AND AGES</li>\n",
    "<li>120\t1-STORY PUD {Planned Unit Development)- 1946 & NEWER</li>\n",
    "<li>150\t1-1/2 STORY PUD - ALL AGES</li>\n",
    "<li>160\t2-STORY PUD - 1946 & NEWER</li>\n",
    "<li>180\tPUD - MULTILEVEL - INCL SPLIT LEV/FOYER</li>\n",
    "<li>190\t2 FAMILY CONVERSION - ALL STYLES AND AGES</li>\n",
    "</ul></dd>\n",
    "<dt>2\n",
    "MSZoning: Identifies the general zoning classification of the sale.\n",
    "</dt>\n",
    "<dd><ul>\n",
    "<li>A\tAgriculture</li>\n",
    "<li>C\tCommercial</li>\n",
    "<li>FV \tFloating Village Residential</li>\n",
    "<li>I \tIndustrial</li>\n",
    "<li>RH\tResidential High Density</li>\n",
    "<li>RL\tResidential Low Density</li>\n",
    "<li>RP\tResidential Low Density Park</li>\n",
    "<li>RM\tResidential Medium Density</li>\n",
    "</ul></dd>\n",
    "<dt>3\n",
    "LotFrontage: Linear feet of street connected to property\n",
    "</dt>\n",
    "<dt>4\n",
    "LotArea: Lot size in square feet\n",
    "</dt>\n",
    "<dt>5\n",
    "Street: Type of road access to property\n",
    "</dt>\n",
    "<dd><ul>\n",
    "<li>Grvl\tGravel</li>\n",
    "<li>Pave \tPaved</li>\n",
    "</ul></dd>\n",
    "<dt>6\n",
    "Alley: Type of alley access to property\n",
    "</dt>\n",
    "<dd><ul>\n",
    "<li>Grvl\tGravel</li>\n",
    "<li>Pave \tPaved</li>\n",
    "<li>NA\tNo alley access</li>\n",
    "</ul></dd>\n",
    "<dt>7\n",
    "LotShape: General shape of property\n",
    "</dt>\n",
    "<dd><ul>\n",
    "<li>Reg \tRegular</li>\n",
    "<li>IRl \t Slightly irregular </li>\n",
    "<li>IR2\tModerately Irregular </li>\n",
    "<li>IR3 \t Irregular</li>\n",
    "</ul></dd>\n",
    "<dt>8\n",
    "LandContour: Flatness of the property\n",
    "</dt>\n",
    "<dd><ul>\n",
    "<li>Lvl\tNear Flat/Level</li></li>\n",
    "<li>Bnk \tBanked - Quick and significant rise from street grade to building</li></li>\n",
    "<li>HLS \tHillside - Significant slope from side to side</li></li>\n",
    "<li>Low\tDepression</li></li>\n",
    "</ul></dd>\n",
    "<dt>9\n",
    "Utilities: Type of utilities available\n",
    "</dt>\n",
    "<dd><ul>\n",
    "<li>AllPub\tAll public Utilities (E,G,W,& S)</li>\n",
    "<li>NoSewr\tElectricity, Gas, and water (Septic Tank) NoSeWa\tElectricity and Gas Only</li></li></li>\n",
    "<li>ELO\tElectricity only</li>\n",
    "</ul></dd>\n",
    "<dt>10\n",
    "LotConfig: Lot configuration\n",
    "</dt>\n",
    "<dd><ul>\n",
    "<li>Inside  Inside lot </li>\n",
    "<li>Corner  Corner lot </li>\n",
    "<li>CulDSac Cul-de-sac</li>\n",
    "<li>FR2 \tFrontage on 2 sides of property</li>\n",
    "<li>FR3 \tFrontage on 3 sides of property</li>\n",
    "</ul></dd>\n",
    "<dt>11\n",
    "LandSlope: Slope of property\n",
    "</dt>\n",
    "<dd><ul>\n",
    "<li>Gtl \tGentle slope </li>\n",
    "<li>Mod\tModerate Slope </li>\n",
    "<li>Sev \t Severe Slope</li>\n",
    "</ul></dd>\n",
    "<dt>12\n",
    "Neighborhood: Physical locations within Ames city limits\n",
    "</dt>\n",
    "<dd><ul>\n",
    "<li>Blmngtn\tBloomington Heights</li>\n",
    "<li>Blueste \tBluestem</li>\n",
    "<li>BrDale\tBriardale</li>\n",
    "<li>BrkSide\tBrookside</li>\n",
    "<li>Clearer Clear Creek </li>\n",
    "<li>CollgCr College Creek </li>\n",
    "<li>Crawfor Crawford </li>\n",
    "<li>Edwards\tEdwards </li>\n",
    "<li>Gilbert Gilbert</li>\n",
    "<li>IDOTRR\tIowa DOT and Rail Road</li>\n",
    "<li>MeadowV\tMeadow Village</li>\n",
    "<li>Mitchel\tMitchell</li>\n",
    "<li>Names\tNorth Ames</li>\n",
    "<li>NoRidge \tNorthridge</li>\n",
    "<li>NPkVill\tNorthpark Villa</li>\n",
    "<li>NridgHt Northridge Heights</li>\n",
    "<li>NWAmes Northwest Ames</li>\n",
    "<li>OldTown Old Town</li>\n",
    "<li>SWISU South & West of Iowa State University</li>\n",
    "<li>Sawyer Sawyer</li>\n",
    "<li>SawyerW Sawyer West</li>\n",
    "<li>Somerst Somerset</li>\n",
    "<li>StoneBr Stone Brook</li>\n",
    "<li>Timber Timberland</li>\n",
    "<li>Veenker Veenker</li>\n",
    "</ul></dd>\n",
    "<dt>13\n",
    "Conditionl: Proximity to various conditions\n",
    "</dt>\n",
    "<dd><ul>\n",
    "<li>Artery\t\tAdjacent to arterial street Feedr\t Adjacent to feeder street Norm\t\t Normal</li>\n",
    "<li>RRNn\tWithin 200' of North-South Railroad</li>\n",
    "<li>RRAn\tAdjacent to North-South Railroad</li>\n",
    "<li>PosN\tNear positive off-site feature--park, greenbelt, etc.</li>\n",
    "<li>PosA \tAdjacent to postive off-site feature</li>\n",
    "<li>RRNe\tWithin 200' of East-West Railroad</li>\n",
    "<li>RRAe\tAdjacent to East-West Railroad</li>\n",
    "</ul></dd>\n",
    "<dt>14\n",
    "Condition2: Proximity to various conditions (if more than one is present)\n",
    "</dt>\n",
    "<dd><ul>\n",
    "<li>Artery\tAdjacent to arterial street</li></li>\n",
    "<li>Feedr\tAdjacent to feeder street</li></li>\n",
    "<li>Norm\tNormal</li></li>\n",
    "<li>RRNn\tWithin 200' of North-South Railroad</li></li>\n",
    "<li>RRAn\tAdjacent to North-South Railroad</li></li>\n",
    "<li>PosN\tNear positive off-site feature--park, greenbelt, etc.</li></li>\n",
    "<li>PosA \tAdjacent to postive off-site feature</li></li>\n",
    "<li>RRNe\tWithin 200' of East-West Railroad</li></li>\n",
    "<li>RRAe\tAdjacent to East-West Railroad</li></li>\n",
    "</ul></dd>\n",
    "<dt>15\n",
    "BldgType: Type of dwelling\n",
    "</dt>\n",
    "<dd><ul>\n",
    "<li>lFam Single-family Detached</li>\n",
    "<li>2FmCon Two-family Conversion; originally built as one-family dwelling</li>\n",
    "<li>Duplx Duplex</li>\n",
    "<li>TwnhsE Townhouse End Unit</li>\n",
    "<li>Twnhsi \tTownhouse Inside Unit</li>\n",
    "</ul></dd>\n",
    "<dt>16\n",
    "HouseStyle: Style of dwelling\n",
    "</dt>\n",
    "<dd><ul>\n",
    "<li>lStory One story</li>\n",
    "<li>1.SFin One and one-half story: 2nd level finished</li>\n",
    "<li>l.SUnf One and one-half story: 2nd level unfinished</li>\n",
    "<li>2Story\tTwo story</li>\n",
    "<li>2.5Fin Two and one-half story: 2nd level finished</li>\n",
    "<li>2.5Unf Two and one-half story: 2nd level unfinished</li>\n",
    "<li>SFoyer Split Foyer</li>\n",
    "<li>SLvl Split Level</li>\n",
    "</ul></dd>\n",
    "<dt>17\n",
    "OVerallQual: Rates the overall material and finish of the house\n",
    "</dt>\n",
    "<dd><ul>\n",
    "<li>10 \tVery Excellent</li>\n",
    "<li>9 \tExcellent</li>\n",
    "<li>8\tVery Good</li>\n",
    "<li>7 \tGood</li>\n",
    "<li>6 \tAbove Average</li>\n",
    "<li>5\tAverage</li>\n",
    "<li>4\tBelow Average</li>\n",
    "<li>3 \tFair</li>\n",
    "<li>2\tPoor</li>\n",
    "<li>1 \tVery Poor</li>\n",
    "</ul></dd>\n",
    "<dt>18\n",
    "OVerallCond: Rates the overall condition of the house\n",
    "</dt>\n",
    "<dd><ul>\n",
    "<li>10 \tVery Excellent</li>\n",
    "<li>9 \tExcellent</li>\n",
    "<li>8\tVery Good</li>\n",
    "<li>7 \tGood</li>\n",
    "<li>6 \tAbove Average</li>\n",
    "<li>5\tAverage</li>\n",
    "<li>4\tBelow Average</li>\n",
    "<li>3 \tFair</li>\n",
    "<li>2\tPoor</li>\n",
    "<li>1 \tVery Poor</li>\n",
    "</ul></dd>\n",
    "<dt>19\n",
    "YearBuilt: Original construction date\n",
    "</dt>\n",
    "<dt>20\n",
    "YearRemodAdd: Remodel date (same as construction date if no remodeling or additions) \n",
    "</dt>\n",
    "<dt>21\n",
    "RoofStyle: Type of roof\n",
    "</dt>\n",
    "<dd><ul>\n",
    "<li>Flat Flat</li>\n",
    "<li>Gable Gable</li>\n",
    "<li>Gambrel Gabrel (Barn)</li>\n",
    "<li>Hip Hip</li>\n",
    "<li>Mansard Mansard</li>\n",
    "<li>Shed Shed</li>\n",
    "</ul></dd>\n",
    "<dt>22\n",
    "RoofMatl: Roof material\n",
    "</dt>\n",
    "<dd><ul>\n",
    "<li>ClyTile Clay or Tile</li>\n",
    "<li>CompShg \tStandard {Composite)Shingle</li>\n",
    "<li>Membran\tMembrane</li>\n",
    "<li>Metal\tMetal</li>\n",
    "<li>Roll\tRoll</li>\n",
    "<li>Tar&Grv\tGravel & Tar </li>\n",
    "<li>WdShake \tWood Shakes </li>\n",
    "<li>WdShngl\tWood Shingles</li>\n",
    "</ul></dd>\n",
    "<dt>23\n",
    "Exteriorlst: Exterior covering on house\n",
    "</dt>\n",
    "<dd><ul>\n",
    "<li>AsbShng\tAsbestos Shingles </li>\n",
    "<li>AsphShn\tAsphalt Shingles </li>\n",
    "<li>BrkComm\tBrick Common </li>\n",
    "<li>BrkFace\tBrick Face</li>\n",
    "<li>CBlock \tCinder Block</li>\n",
    "<li>CemntBd\tCement Board</li>\n",
    "<li>HdBoard \t Hard Board </li>\n",
    "<li>ImStucc \tImitation Stucco </li>\n",
    "<li>MetalSd\tMetal Siding</li>\n",
    "<li>Other\tOther </li>\n",
    "<li>Plywood\tPlywood </li>\n",
    "<li>PreCast\tPreCast </li>\n",
    "<li>Stone\t Stone </li>\n",
    "<li>Stucco\t Stucco</li>\n",
    "<li>VinylSd\tVinyl Siding</li>\n",
    "<li>Wd Sdng\tWood Siding</li>\n",
    "<li>WdShing\tWood Shingles</li>\n",
    "</ul></dd>\n",
    "<dt>24\n",
    "Exterior2nd: Exterior covering on house {if more than one material)\n",
    "</dt>\n",
    "<dd><ul>\n",
    "<li>AsbShng\tAsbestos Shingles</li>\n",
    "<li>AsphShn\tAsphalt Shingles</li>\n",
    "<li>BrkComm\tBrick Common</li>\n",
    "<li>BrkFace\t Brick Face</li>\n",
    "<li>CBlock \tCinder Block </li>\n",
    "<li>CemntBd\tCement Board </li>\n",
    "<li>HdBoard \t Hard Board </li>\n",
    "<li>ImStucc \tImitation Stucco</li>\n",
    "<li>MetalSd\tMetal Siding</li>\n",
    "<li>Other\tOther</li>\n",
    "<li>Plywood\tPlywood</li>\n",
    "<li>PreCast\tPreCast</li>\n",
    "<li>Stone\tStone</li>\n",
    "<li>Stucco\t Stucco </li>\n",
    "<li>VinylSd\tVinyl Siding \n",
    "<li>Wd Sdng\tWood Siding </li>\n",
    "<li>WdShing\tWood Shingles</li>\n",
    "</ul></dd>\n",
    "<dt>25\n",
    "MasVnrType: Masonry veneer type\n",
    "</dt>\n",
    "<dd><ul>\n",
    "<li>BrkCmn\tBrick Common</li>\n",
    "<li>BrkFace Brick Face</li>\n",
    "<li>CBlock Cinder Block</li>\n",
    "<li>None None</li>\n",
    "<li>Stone Stone</li>\n",
    "</ul></dd>\n",
    "<dt>26\n",
    "MasVnrArea: Masonry veneer area in square feet\n",
    "</dt>\n",
    "<dt>27\n",
    "ExterQual: Evaluates the quality of the material on the exterior\n",
    "</dt>\n",
    "<dd><ul>\n",
    "<li>Ex\tExcellent</li>\n",
    "<li>Gd\tGood</li>\n",
    "<li>TA\tAverage/Typical</li>\n",
    "<li>Fa\tFair</li>\n",
    "<li>Po\tPoor</li>\n",
    "</ul></dd>\n",
    "<dt>28\n",
    "ExterCond: Evaluates the present condition of the material on the exterior\n",
    "</dt>\n",
    "<dd><ul>\n",
    "<li>Ex\tExcellent</li>\n",
    "<li>Gd\tGood</li>\n",
    "<li>TA\tAverage/Typical</li>\n",
    "<li>Fa\tFair</li>\n",
    "<li>Po\tPoor</li>\n",
    "</ul></dd>\n",
    "<dt>29\n",
    "Foundation: Type of foundation\n",
    "</dt>\n",
    "<dd><ul>\n",
    "<li>BrkTil  Brick & Tile</li>\n",
    "<li>CBlock Cinder Block</li>\n",
    "<li>PConc Poured Contrete</li>\n",
    "<li>Slab Slab</li>\n",
    "<li>Stone Stone</li>\n",
    "<li>Wood Wood</li>\n",
    "</ul></dd>\n",
    "<dt>30\n",
    "BsmtQual: Evaluates the height of the basement\n",
    "</dt>\n",
    "<dd><ul>\n",
    "<li>Ex\t Excellent (100+ inches) </li>\n",
    "<li>Gd\tGood (90-99 inches)</li>\n",
    "<li>TA\tTypical (80-89 inches) Fa\t</li>\n",
    "<li>Fair (70-79 inches)</li>\n",
    "<li>Po\tPoor (&lt;70 inches)</li>\n",
    "<li>NA \tNo Basement</li>\n",
    "</ul></dd>\n",
    "<dt>31\n",
    "BsmtCond: Evaluates the general condition of the basement\n",
    "</dt>\n",
    "<dd><ul>\n",
    "<li>Ex\tExcellent</li>\n",
    "<li>Gd\tGood</li>\n",
    "<li>TA\tTypical - slight dampness allowed</li>\n",
    "<li>Fa\tFair - dampness or some cracking or settling</li>\n",
    "<li>Po\tPoor - Severe cracking, settling, or wetness</li>\n",
    "<li>NA \tNo Basement</li>\n",
    "</ul></dd>\n",
    "<dt>32\n",
    "BsmtExposure: Refers to walkout or garden level walls\n",
    "</dt>\n",
    "<dd><ul>\n",
    "<li>Gd\tGood Exposure</li>\n",
    "<li>Av \tAverage Exposure (split levels or foyers typically score average or above)</li>\n",
    "<li>Mn\tMimimum Exposure</li>\n",
    "<li>No \tNo Exposure</li>\n",
    "<li>NA \tNo Basement</li>\n",
    "</ul></dd>\n",
    "<dt>33\n",
    "BsmtFinTypel: Rating of basement finished area\n",
    "</dt>\n",
    "<dd><ul>\n",
    "<li>GLQ \tGood Living Quarters</li>\n",
    "<li>ALQ \tAverage Living Quarters</li>\n",
    "<li>BLQ \tBelow Average Living Quarters</li>\n",
    "<li>Rec\tAverage Rec Room</li>\n",
    "<li>LwQ \tLow Quality</li>\n",
    "<li>Unf \tUnfinshed</li>\n",
    "<li>NA \tNo Basement</li>\n",
    "</ul></dd>\n",
    "<dt>34\n",
    "BsmtFinSFl: Type 1 finished square feet\n",
    "</dt>\n",
    "<dt>35\n",
    "BsmtFinType2: Rating of basement finished area (if multiple types)\n",
    "</dt>\n",
    "<dd><ul>\n",
    "<li>GLQ \tGood Living Quarters</li>\n",
    "<li>ALQ \tAverage Living Quarters</li>\n",
    "<li>BLQ \tBelow Average Living Quarters</li>\n",
    "<li>Rec\tAverage Rec Room</li>\n",
    "<li>LwQ \tLow Quality</li>\n",
    "<li>Unf \tUnfinshed</li>\n",
    "<li>NA \tNo Basement</li>\n",
    "</ul></dd>\n",
    "<dt>36\n",
    "BsmtFinSF2: Type 2 finished square feet\t\n",
    "</dt>\n",
    "<dt>37\n",
    "BsmtUnfSF: Unfinished square feet of basement area \n",
    "</dt>\n",
    "<dt>38\n",
    "TotalBsmtSF: Total square feet of basement area\n",
    "</dt>\n",
    "<dt>39\n",
    "Heating: Type of heating\n",
    "</dt>\n",
    "<dd><ul>\n",
    "<li>Floor\tFloor Furnace</li>\n",
    "<li>GasA\tGas forced warm air furnace</li>\n",
    "<li>GasW\tGas hot water or steam heat</li>\n",
    "<li>Grav \tGravity furnace</li>\n",
    "<li>OthW\tHot water or steam heat other than gas</li>\n",
    "<li>Wall\tWall furnace</li>\n",
    "</ul></dd>\n",
    "<dt>40\n",
    "HeatingQC: Heating quality and condition\n",
    "</dt>\n",
    "<dd><ul>\n",
    "<li>Ex\tExcellent</li>\n",
    "<li>Gd\tGood</li>\n",
    "<li>TA\tAverage/Typical</li>\n",
    "<li>Fa\tFair</li>\n",
    "<li>Po\tPoor</li>\n",
    "</ul></dd>\n",
    "<dt>41\n",
    "CentralAir: Central air conditioning\n",
    "</dt>\n",
    "<dd><ul>\n",
    "<li>N\tNo</li>\n",
    "<li>y\tYes</li>\n",
    "</ul></dd>\n",
    "<dt>42\n",
    "Electrical: Electrical system\n",
    "</dt>\n",
    "<dd><ul>\n",
    "<li>SBrkr Standard Circuit Breakers & Romex</li>\n",
    "<li>FuseA Fuse Box over 60 AMP and all Romex wiring (Average)</li>\n",
    "<li>FuseF 60 AMP Fuse Box and mostly Romex wiring (Fair)</li>\n",
    "<li>FuseP 60 AMP Fuse Box and mostly knob & tube wiring (poor)</li>\n",
    "<li>Mix Mixed</li>\n",
    "</ul></dd>\n",
    "<dt>43\n",
    "lstFlrSF: First Floor square feet\n",
    "</dt>\n",
    "<dt>44\n",
    "2ndFlrSF: Second floor square feet\t\n",
    "</dt>\n",
    "<dt>45\n",
    "LowQualFinSF: Low quality finished square feet (all floors) \n",
    "</dt>\n",
    "<dt>46\n",
    "GrLivArea: Above grade (ground)living area square feet \n",
    "</dt>\n",
    "<dt>47\n",
    "BsmtFullBath: Basement full bathrooms\n",
    "</dt>\n",
    "<dt>48\n",
    "BsmtHalfBath: Basement half bathrooms\n",
    "</dt>\n",
    "<dt>49\n",
    "FullBath: Full bathrooms above grade\n",
    "</dt>\n",
    "<dt>50\n",
    "HalfBath: Half baths above grade\n",
    "</dt>\n",
    "<dt>51\n",
    "Bedroom: Bedrooms above grade (does NOT include basement bedrooms)\n",
    "</dt>\n",
    "<dt>52\n",
    "Kitchen: Kitchens above grade\n",
    "</dt>\n",
    "<dt>53\n",
    "KitchenQual: Kitchen quality\n",
    "</dt>\n",
    "<dd><ul>\n",
    "<li>Ex\tExcellent</li>\n",
    "<li>Gd\tGood</li>\n",
    "<li>TA\tTypical/Average</li>\n",
    "<li>Fa\tFair</li>\n",
    "<li>Po\tPoor</li>\n",
    "</ul></dd>\n",
    "<dt>54\n",
    "TotRmsAbvGrd: Total rooms above grade (does not include bathrooms)\n",
    "</dt>\n",
    "<dt>55\n",
    "Functional: Home functionality (Assume typical unless deductions are warranted)\n",
    "</dt>\n",
    "<dd><ul>\n",
    "<li>Typ \tTypical Functionality</li>\n",
    "<li>Min1 \tMinor Deductions 1</li>\n",
    "<li>Min2 \tMinor Deductions 2</li>\n",
    "<li>Mod\tModerate Deductions</li>\n",
    "<li>Maj1 \tMajor Deductions 1</li>\n",
    "<li>Maj2 \tMajor Deductions 2</li>\n",
    "<li>Sev \tSeverely Damaged</li>\n",
    "<li>Sal \tSalvage only</li>\n",
    "</ul></dd>\n",
    "<dt>56\n",
    "Fireplaces: Number of fireplaces\n",
    "</dt>\n",
    "<dt>57\n",
    "FireplaceQu: Fireplace quality\n",
    "</dt>\n",
    "<dd><ul>\n",
    "<li>Ex\tExcellent - Exceptional Masonry Fireplace</li>\n",
    "<li>Gd \tGood - Masonry Fireplace in main level</li>\n",
    "<li>TA\tAverage - Prefabricated Fireplace in main living area or Masonry Fireplace in basement</li>\n",
    "<li>Fa\tFair - Prefabricated Fireplace in basement</li>\n",
    "<li>Po\tPoor - Ben Franklin Stove</li>\n",
    "<li>NA \tNo Fireplace</li>\n",
    "</ul></dd>\n",
    "<dt>58\n",
    "GarageType: Garage location\n",
    "</dt>\n",
    "<dd><ul>\n",
    "<li>2Types More than one type of garage</li>\n",
    "<li>Attchd Attached to home</li>\n",
    "<li>Basment Basement Garage</li>\n",
    "<li>Builtin Built-In (Garage part of house - typically has room above garage)</li>\n",
    "<li>CarPort Car Port</li>\n",
    "<li>Detchd Detached from home</li>\n",
    "<li>NA No Garage</li>\n",
    "</ul></dd>\n",
    "<dt>59\n",
    "GarageYrBlt: Year garage was built\n",
    "</dt>\n",
    "<dt>60\n",
    "GarageFinish: Interior finish of the garage\n",
    "</dt>\n",
    "<dd><ul>\n",
    "<li>Fin \tFinished</li>\n",
    "<li>RFn \tRough Finished</li>\n",
    "<li>Unf \tUnfinished</li>\n",
    "<li>NA \tNo Garage</li>\n",
    "</ul></dd>\n",
    "<dt>61\n",
    "GarageCars: Size of garage in car capacity \n",
    "</dt>\n",
    "<dt>62\n",
    "GarageArea: Size of garage in square feet \n",
    "</dt>\n",
    "<dt>63\n",
    "GarageQual: Garage quality\n",
    "</dt>\n",
    "<dd><ul>\n",
    "<li>Ex\tExcellent</li>\n",
    "<li>Gd\tGood</li>\n",
    "<li>TA\tTypical/Average </li>\n",
    "<li>Fa\tFair</li>\n",
    "<li>Po\tPoor</li>\n",
    "<li>NA \tNo Garage</li>\n",
    "</ul></dd>\n",
    "<dt>64\n",
    "GarageCond: Garage condition\n",
    "</dt>\n",
    "<dd><ul>\n",
    "<li>Ex\tExcellent</li>\n",
    "<li>Gd\tGood</li>\n",
    "<li>TA\tTypical/Average</li>\n",
    "<li>Fa\tFair</li>\n",
    "<li>Po\tPoor</li>\n",
    "<li>NA \tNo Garage</li>\n",
    "</ul></dd>\n",
    "<dt>65\n",
    "PavedDrive: Paved driveway\n",
    "</dt>\n",
    "<dd><ul>\n",
    "<li>y\tPaved</li>\n",
    "<li>p \tPartial Pavement</li>\n",
    "<li>N\tDirt/Gravel</li>\n",
    "</ul></dd>\n",
    "<dt>66\n",
    "WoodDeckSF: Wood deck area in square feet \n",
    "</dt>\n",
    "<dt>67\n",
    "OpenPorchSF: Open porch area in square feet \n",
    "</dt>\n",
    "<dt>68\n",
    "EnclosedPorch: Enclosed porch area in square feet\n",
    "</dt>\n",
    "<dt>69\n",
    "3SsnPorch: Three season porch area in square feet \n",
    "</dt>\n",
    "<dt>70\n",
    "ScreenPorch: Screen porch area in square feet \n",
    "</dt>\n",
    "<dt>71\n",
    "PoolArea: Pool area in square feet\n",
    "</dt>\n",
    "<dt>72\n",
    "PoolQC: Pool quality\n",
    "</dt>\n",
    "<dd><ul>\n",
    "<li>Ex\tExcellent</li>\n",
    "<li>Gd\tGood</li>\n",
    "<li>TA\tAverage/Typical</li>\n",
    "<li>Fa\tFair</li>\n",
    "<li>NA \tNo Pool</li>\n",
    "</ul></dd>\n",
    "<dt>73\n",
    "Fence: Fence quality\n",
    "</dt>\n",
    "<dd><ul>\n",
    "<li>GdPrv Good Privacy</li>\n",
    "<li>MnPrv Minimum Privacy</li>\n",
    "<li>GdWo Good Wood</li>\n",
    "<li>MnWw Minimum Wood/Wire</li>\n",
    "<li>NA No Fence</li>\n",
    "</ul></dd>\n",
    "<dt>74\n",
    "MiscFeature: Miscellaneous feature not covered in other categories\n",
    "</dt>\n",
    "<dd><ul>\n",
    "<li>Elev\tElevator</li>\n",
    "<li>Gar2 \t2nd Garage {if not described in garage section)</li>\n",
    "<li>Othr\tOther</li>\n",
    "<li>Shed\tShed (over 100 SF)</li>\n",
    "<li>TenC \tTennis Court</li>\n",
    "<li>NA \tNone</li>\n",
    "</ul></dd>\n",
    "<dt>75\n",
    "MiscVal: &#36;Value of miscellaneous feature\n",
    "</dt>\n",
    "<dt>76\n",
    "MoSold: Month Sold (MM) \n",
    "</dt>\n",
    "<dt>77\n",
    "YrSold: Year Sold (YYYY) \n",
    "</dt>\n",
    "<dt>78\n",
    "SaleType: Type of sale\n",
    "</dt>\n",
    "<dd><ul>\n",
    "<li>WD \tWarranty Deed - Conventional</li>\n",
    "<li>CWO \tWarranty Deed - Cash</li>\n",
    "<li>VWD \tWarranty Deed - VA Loan</li>\n",
    "<li>New \tHome just constructed and sold</li>\n",
    "<li>COD \tCourt Officer Deed/Estate</li>\n",
    "<li>Con \tContract 15% Down payment regular terms</li>\n",
    "<li>ConLw \tContract Low Down payment and low interest</li>\n",
    "<li>ConLI \tContract Low Interest</li>\n",
    "<li>ConLD\tContract Low Down</li>\n",
    "<li>Oth\tOther\n",
    "</ul></dd>\n",
    "<dt>79\n",
    "SaleCondition: Condition of sale\n",
    "</dt>\n",
    "<dd><ul>\n",
    "<li>Normal Normal Sale</li>\n",
    "<li>Abnorml Abnormal Sale -\ttrade, foreclosure, short sale</li>\n",
    "<li>AdjLand Adjoining Land Purchase</li>\n",
    "<li>Alloca Allocation - two linked properties with separate deeds, typically condo with a garage unit</li>\n",
    "<li>Family Sale between family members</li>\n",
    "<li>Partial Home was not completed when last assessed (associated with New Homes)</li>\n",
    "</ul></dd>\n",
    "</dl>"
   ]
  },
  {
   "cell_type": "markdown",
   "metadata": {},
   "source": [
    "Import des bibloithèques"
   ]
  },
  {
   "cell_type": "code",
   "execution_count": 1,
   "metadata": {
    "collapsed": false,
    "scrolled": true
   },
   "outputs": [
    {
     "name": "stdout",
     "output_type": "stream",
     "text": [
      "Populating the interactive namespace from numpy and matplotlib\n"
     ]
    },
    {
     "name": "stderr",
     "output_type": "stream",
     "text": [
      "/home/maxougj/anaconda2/lib/python2.7/site-packages/sklearn/cross_validation.py:44: DeprecationWarning: This module was deprecated in version 0.18 in favor of the model_selection module into which all the refactored classes and functions are moved. Also note that the interface of the new CV iterators are different from that of this module. This module will be removed in 0.20.\n",
      "  \"This module will be removed in 0.20.\", DeprecationWarning)\n"
     ]
    }
   ],
   "source": [
    "%pylab inline\n",
    "%matplotlib inline\n",
    "import pylab\n",
    "import csv\n",
    "import numpy as np\n",
    "import pandas as pd\n",
    "import numpy as np\n",
    "from sklearn.linear_model import Ridge, Lasso, RidgeCV, ElasticNet, LassoCV, LassoLarsCV\n",
    "from sklearn.cross_validation import cross_val_score\n",
    "from operator import itemgetter\n",
    "import matplotlib.pyplot as plt\n",
    "import csv \n",
    "import os\n",
    "from sklearn.neural_network import MLPRegressor"
   ]
  },
  {
   "cell_type": "markdown",
   "metadata": {},
   "source": [
    "<p><strong>Ouvre le fichier fileName et le convertit en tableau de données </strong></p>\n",
    "<dl>\n",
    "<dt>Entrées : </dt>\n",
    "<dd><em>fileName</em> : nom du fichier à ouvrir </dd>\n",
    "<dt>Sorties : </dt>\n",
    "<dd><em>dataA</em> : tableau contenant toutes les données du fichier</dd>\n",
    "</dl>"
   ]
  },
  {
   "cell_type": "code",
   "execution_count": 2,
   "metadata": {
    "collapsed": false,
    "scrolled": true
   },
   "outputs": [],
   "source": [
    "def dataInput(fileName):\n",
    "    \n",
    "    dataA = pd.read_csv(fileName)\n",
    "    #print dataA\n",
    "    \n",
    "    print 'dataA stats : '\n",
    "    print 'dataA.ndim = ',dataA.ndim,' dataA.shape = ',dataA.shape,' dataA.size = ',dataA.size\n",
    "    #print 'dataA.dtype = ',dataA.dtype,' dataA.itemsize = ',dataA.itemsize \n",
    "    print '--------------------------------------------------------------------------'\n",
    "    \n",
    "    #vérifie s'il y a des duplications\n",
    "    checkDuplicates(dataA)\n",
    "    print '--------------------------------------------------------------------------'\n",
    "    \n",
    "    return dataA"
   ]
  },
  {
   "cell_type": "markdown",
   "metadata": {},
   "source": [
    "<p><strong>Vérifie si des Ids sont dupliqués</strong></p>\n",
    "<dl>\n",
    "<dt>Entrées : </dt>\n",
    "<dd><em>dataA : </em>tableau de données à vérifier</dd>\n",
    "</dl>"
   ]
  },
  {
   "cell_type": "code",
   "execution_count": 3,
   "metadata": {
    "collapsed": true
   },
   "outputs": [],
   "source": [
    "def checkDuplicates(dataA):\n",
    "    idsUnique = len(set(dataA.Id))\n",
    "    idsTotal = dataA.shape[0]\n",
    "    idsDupli = idsTotal - idsUnique\n",
    "    print(\"There are \" + str(idsDupli) + \" duplicate IDs for \" + str(idsTotal) + \" total entries\")"
   ]
  },
  {
   "cell_type": "markdown",
   "metadata": {},
   "source": [
    "<p><strong>Crée à partir du tableau de données dataA 3 ensembles (train, validation et test) et les enregistre dans 3 fichiers différents</strong></p>\n",
    "<dl>\n",
    "<dt><strong>Entrées : </strong></dt>\n",
    "<dd><em>dataA</em> : tableau des données à traiter</dd>\n",
    "<dd><em>frTr</em> : pourcentage de la taille de l'ensemble des données prises pour l'ensemble train</dd>\n",
    "<dd><em>frVa</em> : pourcentage de la taille de l'ensemble des données prises pour l'ensemble valid</dd>\n",
    "<dd><em>frTe</em> : pourcentage de la taille de l'ensemble des données prises pour l'ensemble test</dd>\n",
    "<dt>Sorties : </dt>\n",
    "<dd>train_set<em></em>: ensemble d'entrainement</dd>\n",
    "<dd><em>valid_set</em>: ensemble de validation</dd>\n",
    "<dd><em>test_set</em>: ensemble de test</dd>\n",
    "</dl>"
   ]
  },
  {
   "cell_type": "code",
   "execution_count": 4,
   "metadata": {
    "collapsed": false,
    "scrolled": true
   },
   "outputs": [],
   "source": [
    "def TrainingValidationTestSets(dataA,frTr,frVa,frTe):\n",
    "    random.seed()\n",
    "    # Determiner au hasard des indices pour les exemples d'entrainement et de test\n",
    "    n_train = int(frTr*dataA.shape[0])\n",
    "    n_valid = int(frVa*dataA.shape[0])\n",
    "    n_test = int(frTe*dataA.shape[0])\n",
    "    rest = dataA.shape[0] - n_train - n_valid - n_test\n",
    "    if rest != 0:\n",
    "        n_train += rest\n",
    "    inds = range(dataA.shape[0])\n",
    "    random.shuffle(inds)\n",
    "    train_inds = inds[:n_train]\n",
    "    valid_inds = inds[n_train:n_train+n_valid]\n",
    "    test_inds = inds[n_train+n_valid:]\n",
    "\n",
    "    # Separer les donnees dans les deux ensembles\n",
    "    train_set = dataA.iloc[train_inds,:]\n",
    "    valid_set = dataA.iloc[valid_inds,:]\n",
    "    test_set = dataA.iloc[test_inds,:]\n",
    "    #print ' len(dataA)= ',len(dataA),' len(train_set)= ',len(train_set), ' len(valid_set)= ',len(valid_set), ' len(test_set)= ',len(test_set) \n",
    "    #print ' len(train_set) + len(valid_set) + len(test_set)= ',len(train_set) + len(valid_set) + len(test_set)  \n",
    "    #np.savetxt(\"train_set.csv\", train_set, delimiter=\",\",fmt = 'iteration %d – %10.5f)\n",
    "    np.savetxt(\"train_set.csv\", train_set, delimiter=\",\",fmt = '%s')\n",
    "    np.savetxt(\"valid_set.csv\", valid_set, delimiter=\",\",fmt = '%s')\n",
    "    np.savetxt(\"test_set.csv\", test_set, delimiter=\",\",fmt = '%s')\n",
    "    print'Les fichiers train_set.csv, valid_set.csv et test_set.csv ont bien été enregistré'\n",
    "    \n",
    "    return train_set, valid_set, test_set"
   ]
  },
  {
   "cell_type": "markdown",
   "metadata": {},
   "source": [
    "<p>\n",
    "<strong>Extrait les outliers du tableau de données dataA</strong>\n",
    "<br>Identification d'exemples outliers (surface totale trop élevée vs prix): lignes 1498, 2180 & 2181\n",
    "</p>\n",
    "<dl>\n",
    "<dt><strong>Entrées : </strong></dt>\n",
    "<dd><em>dataA</em> : tableau des données à traiter</dd>\n",
    "</dl>"
   ]
  },
  {
   "cell_type": "code",
   "execution_count": 5,
   "metadata": {
    "collapsed": false,
    "scrolled": true
   },
   "outputs": [],
   "source": [
    "def outliers(dataA):\n",
    "    for j in range(len(dataA[:,36])):\n",
    "        if float(dataA[j,38]) + float(dataA[j,46]) > 7500:\n",
    "            print ' example (j+1) ', j+1,' is outlier',' since area = ',\n",
    "            print float(dataA[j,38]) + float(dataA[j,46]),' and price = ',dataA[j,-1]"
   ]
  },
  {
   "cell_type": "markdown",
   "metadata": {},
   "source": [
    "<p><strong></strong></p>"
   ]
  },
  {
   "cell_type": "markdown",
   "metadata": {},
   "source": [
    "<p><strong>Corrige les données discrètes du tableau de données</strong></p>\n",
    "<dl>\n",
    "<dt>Entrées :</dt>\n",
    "<dd><em>dataA</em>: Tableau des données</dd>\n",
    "<dt>Sorties : </dt>\n",
    "<dd><em>dataA</em>: Tableau des données corrigé</dd>\n",
    "</dl>"
   ]
  },
  {
   "cell_type": "code",
   "execution_count": 6,
   "metadata": {
    "collapsed": true
   },
   "outputs": [],
   "source": [
    "def dataCorrection(dataA) :\n",
    "    # Handle missing values for features where median/mean or most common value doesn't make sense\n",
    "\n",
    "    # Alley : data description says NA means \"no alley access\"\n",
    "    dataA.loc[:, \"Alley\"] = dataA.loc[:, \"Alley\"].fillna(\"None\")\n",
    "    # BedroomAbvGr : NA most likely means 0\n",
    "    dataA.loc[:, \"BedroomAbvGr\"] = dataA.loc[:, \"BedroomAbvGr\"].fillna(0)\n",
    "    # BsmtQual etc : data description says NA for basement features is \"no basement\"\n",
    "    dataA.loc[:, \"BsmtQual\"] = dataA.loc[:, \"BsmtQual\"].fillna(\"No\")\n",
    "    dataA.loc[:, \"BsmtCond\"] = dataA.loc[:, \"BsmtCond\"].fillna(\"No\")\n",
    "    dataA.loc[:, \"BsmtExposure\"] = dataA.loc[:, \"BsmtExposure\"].fillna(\"No\")\n",
    "    dataA.loc[:, \"BsmtFinType1\"] = dataA.loc[:, \"BsmtFinType1\"].fillna(\"No\")\n",
    "    dataA.loc[:, \"BsmtFinType2\"] = dataA.loc[:, \"BsmtFinType2\"].fillna(\"No\")\n",
    "    dataA.loc[:, \"BsmtFullBath\"] = dataA.loc[:, \"BsmtFullBath\"].fillna(0)\n",
    "    dataA.loc[:, \"BsmtHalfBath\"] = dataA.loc[:, \"BsmtHalfBath\"].fillna(0)\n",
    "    dataA.loc[:, \"BsmtUnfSF\"] = dataA.loc[:, \"BsmtUnfSF\"].fillna(0)\n",
    "    # CentralAir : NA most likely means No\n",
    "    dataA.loc[:, \"CentralAir\"] = dataA.loc[:, \"CentralAir\"].fillna(\"N\")\n",
    "    # Condition : NA most likely means Normal\n",
    "    dataA.loc[:, \"Condition1\"] = dataA.loc[:, \"Condition1\"].fillna(\"Norm\")\n",
    "    dataA.loc[:, \"Condition2\"] = dataA.loc[:, \"Condition2\"].fillna(\"Norm\")\n",
    "    # EnclosedPorch : NA most likely means no enclosed porch\n",
    "    dataA.loc[:, \"EnclosedPorch\"] = dataA.loc[:, \"EnclosedPorch\"].fillna(0)\n",
    "    # External stuff : NA most likely means average\n",
    "    dataA.loc[:, \"ExterCond\"] = dataA.loc[:, \"ExterCond\"].fillna(\"TA\")\n",
    "    dataA.loc[:, \"ExterQual\"] = dataA.loc[:, \"ExterQual\"].fillna(\"TA\")\n",
    "    # Fence : data description says NA means \"no fence\"\n",
    "    dataA.loc[:, \"Fence\"] = dataA.loc[:, \"Fence\"].fillna(\"No\")\n",
    "    # FireplaceQu : data description says NA means \"no fireplace\"\n",
    "    dataA.loc[:, \"FireplaceQu\"] = dataA.loc[:, \"FireplaceQu\"].fillna(\"No\")\n",
    "    dataA.loc[:, \"Fireplaces\"] = dataA.loc[:, \"Fireplaces\"].fillna(0)\n",
    "    # Functional : data description says NA means typical\n",
    "    dataA.loc[:, \"Functional\"] = dataA.loc[:, \"Functional\"].fillna(\"Typ\")\n",
    "    # GarageType etc : data description says NA for garage features is \"no garage\"\n",
    "    dataA.loc[:, \"GarageType\"] = dataA.loc[:, \"GarageType\"].fillna(\"No\")\n",
    "    dataA.loc[:, \"GarageFinish\"] = dataA.loc[:, \"GarageFinish\"].fillna(\"No\")\n",
    "    dataA.loc[:, \"GarageQual\"] = dataA.loc[:, \"GarageQual\"].fillna(\"No\")\n",
    "    dataA.loc[:, \"GarageCond\"] = dataA.loc[:, \"GarageCond\"].fillna(\"No\")\n",
    "    dataA.loc[:, \"GarageArea\"] = dataA.loc[:, \"GarageArea\"].fillna(0)\n",
    "    dataA.loc[:, \"GarageCars\"] = dataA.loc[:, \"GarageCars\"].fillna(0)\n",
    "    # HalfBath : NA most likely means no half baths above grade\n",
    "    dataA.loc[:, \"HalfBath\"] = dataA.loc[:, \"HalfBath\"].fillna(0)\n",
    "    # HeatingQC : NA most likely means typical\n",
    "    dataA.loc[:, \"HeatingQC\"] = dataA.loc[:, \"HeatingQC\"].fillna(\"TA\")\n",
    "    # KitchenAbvGr : NA most likely means 0\n",
    "    dataA.loc[:, \"KitchenAbvGr\"] = dataA.loc[:, \"KitchenAbvGr\"].fillna(0)\n",
    "    # KitchenQual : NA most likely means typical\n",
    "    dataA.loc[:, \"KitchenQual\"] = dataA.loc[:, \"KitchenQual\"].fillna(\"TA\")\n",
    "    # LotFrontage : NA most likely means no lot frontage\n",
    "    dataA.loc[:, \"LotFrontage\"] = dataA.loc[:, \"LotFrontage\"].fillna(0)\n",
    "    # LotShape : NA most likely means regular\n",
    "    dataA.loc[:, \"LotShape\"] = dataA.loc[:, \"LotShape\"].fillna(\"Reg\")\n",
    "    # MasVnrType : NA most likely means no veneer\n",
    "    dataA.loc[:, \"MasVnrType\"] = dataA.loc[:, \"MasVnrType\"].fillna(\"None\")\n",
    "    dataA.loc[:, \"MasVnrArea\"] = dataA.loc[:, \"MasVnrArea\"].fillna(0)\n",
    "    # MiscFeature : data description says NA means \"no misc feature\"\n",
    "    dataA.loc[:, \"MiscFeature\"] = dataA.loc[:, \"MiscFeature\"].fillna(\"No\")\n",
    "    dataA.loc[:, \"MiscVal\"] = dataA.loc[:, \"MiscVal\"].fillna(0)\n",
    "    # OpenPorchSF : NA most likely means no open porch\n",
    "    dataA.loc[:, \"OpenPorchSF\"] = dataA.loc[:, \"OpenPorchSF\"].fillna(0)\n",
    "    # PavedDrive : NA most likely means not paved\n",
    "    dataA.loc[:, \"PavedDrive\"] = dataA.loc[:, \"PavedDrive\"].fillna(\"N\")\n",
    "    # PoolQC : data description says NA means \"no pool\"\n",
    "    dataA.loc[:, \"PoolQC\"] = dataA.loc[:, \"PoolQC\"].fillna(\"No\")\n",
    "    dataA.loc[:, \"PoolArea\"] = dataA.loc[:, \"PoolArea\"].fillna(0)\n",
    "    # SaleCondition : NA most likely means normal sale\n",
    "    dataA.loc[:, \"SaleCondition\"] = dataA.loc[:, \"SaleCondition\"].fillna(\"Normal\")\n",
    "    # ScreenPorch : NA most likely means no screen porch\n",
    "    dataA.loc[:, \"ScreenPorch\"] = dataA.loc[:, \"ScreenPorch\"].fillna(0)\n",
    "    # TotRmsAbvGrd : NA most likely means 0\n",
    "    dataA.loc[:, \"TotRmsAbvGrd\"] = dataA.loc[:, \"TotRmsAbvGrd\"].fillna(0)\n",
    "    # Utilities : NA most likely means all public utilities\n",
    "    dataA.loc[:, \"Utilities\"] = dataA.loc[:, \"Utilities\"].fillna(\"AllPub\")\n",
    "    # WoodDeckSF : NA most likely means no wood deck\n",
    "    dataA.loc[:, \"WoodDeckSF\"] = dataA.loc[:, \"WoodDeckSF\"].fillna(0)\n",
    "    \n",
    "    # Some numerical features are actually really categories\n",
    "    dataA = dataA.replace({\"MSSubClass\" : {20 : \"SC20\", 30 : \"SC30\", 40 : \"SC40\", 45 : \"SC45\", \n",
    "                                       50 : \"SC50\", 60 : \"SC60\", 70 : \"SC70\", 75 : \"SC75\", \n",
    "                                       80 : \"SC80\", 85 : \"SC85\", 90 : \"SC90\", 120 : \"SC120\", \n",
    "                                       150 : \"SC150\", 160 : \"SC160\", 180 : \"SC180\", 190 : \"SC190\"},\n",
    "                       \"MoSold\" : {1 : \"Jan\", 2 : \"Feb\", 3 : \"Mar\", 4 : \"Apr\", 5 : \"May\", 6 : \"Jun\",\n",
    "                                   7 : \"Jul\", 8 : \"Aug\", 9 : \"Sep\", 10 : \"Oct\", 11 : \"Nov\", 12 : \"Dec\"}\n",
    "                      })\n",
    "    \n",
    "    # Encode some categorical features as ordered numbers when there is information in the order\n",
    "    dataA = dataA.replace({\"Alley\" : {\"Grvl\" : 1, \"Pave\" : 2},\n",
    "                       \"BsmtCond\" : {\"No\" : 0, \"Po\" : 1, \"Fa\" : 2, \"TA\" : 3, \"Gd\" : 4, \"Ex\" : 5},\n",
    "                       \"BsmtExposure\" : {\"No\" : 0, \"Mn\" : 1, \"Av\": 2, \"Gd\" : 3},\n",
    "                       \"BsmtFinType1\" : {\"No\" : 0, \"Unf\" : 1, \"LwQ\": 2, \"Rec\" : 3, \"BLQ\" : 4, \n",
    "                                         \"ALQ\" : 5, \"GLQ\" : 6},\n",
    "                       \"BsmtFinType2\" : {\"No\" : 0, \"Unf\" : 1, \"LwQ\": 2, \"Rec\" : 3, \"BLQ\" : 4, \n",
    "                                         \"ALQ\" : 5, \"GLQ\" : 6},\n",
    "                       \"BsmtQual\" : {\"No\" : 0, \"Po\" : 1, \"Fa\" : 2, \"TA\": 3, \"Gd\" : 4, \"Ex\" : 5},\n",
    "                       \"ExterCond\" : {\"Po\" : 1, \"Fa\" : 2, \"TA\": 3, \"Gd\": 4, \"Ex\" : 5},\n",
    "                       \"ExterQual\" : {\"Po\" : 1, \"Fa\" : 2, \"TA\": 3, \"Gd\": 4, \"Ex\" : 5},\n",
    "                       \"FireplaceQu\" : {\"No\" : 0, \"Po\" : 1, \"Fa\" : 2, \"TA\" : 3, \"Gd\" : 4, \"Ex\" : 5},\n",
    "                       \"Functional\" : {\"Sal\" : 1, \"Sev\" : 2, \"Maj2\" : 3, \"Maj1\" : 4, \"Mod\": 5, \n",
    "                                       \"Min2\" : 6, \"Min1\" : 7, \"Typ\" : 8},\n",
    "                       \"GarageCond\" : {\"No\" : 0, \"Po\" : 1, \"Fa\" : 2, \"TA\" : 3, \"Gd\" : 4, \"Ex\" : 5},\n",
    "                       \"GarageFinish\" : {\"No\" : 0, \"Unf\" : 1, \"RFn\" : 2, \"Fin\" : 3},\n",
    "                       \"GarageQual\" : {\"No\" : 0, \"Po\" : 1, \"Fa\" : 2, \"TA\" : 3, \"Gd\" : 4, \"Ex\" : 5},\n",
    "                       \"HeatingQC\" : {\"Po\" : 1, \"Fa\" : 2, \"TA\" : 3, \"Gd\" : 4, \"Ex\" : 5},\n",
    "                       \"KitchenQual\" : {\"Po\" : 1, \"Fa\" : 2, \"TA\" : 3, \"Gd\" : 4, \"Ex\" : 5},\n",
    "                       \"LandSlope\" : {\"Sev\" : 1, \"Mod\" : 2, \"Gtl\" : 3},\n",
    "                       \"LotShape\" : {\"IR3\" : 1, \"IR2\" : 2, \"IR1\" : 3, \"Reg\" : 4},\n",
    "                       \"PavedDrive\" : {\"N\" : 0, \"P\" : 1, \"Y\" : 2},\n",
    "                       \"PoolQC\" : {\"No\" : 0, \"Fa\" : 1, \"TA\" : 2, \"Gd\" : 3, \"Ex\" : 4},\n",
    "                       \"Street\" : {\"Grvl\" : 1, \"Pave\" : 2},\n",
    "                       \"Utilities\" : {\"ELO\" : 1, \"NoSeWa\" : 2, \"NoSewr\" : 3, \"AllPub\" : 4}}\n",
    "                     )\n",
    "    \n",
    "    return dataA"
   ]
  },
  {
   "cell_type": "markdown",
   "metadata": {},
   "source": [
    "<p><strong>Ordonne les traits caractéristiques en fonction de la corrélation avec le prix</strong></p>\n",
    "<dl>\n",
    "<dt>Entrées :</dt>\n",
    "<dd><em>dataA</em>: Tableau des données</dd>\n",
    "<dd><em>figure</em>: Dessin de la figure ou non (bool)</dd>\n",
    "</dl>"
   ]
  },
  {
   "cell_type": "code",
   "execution_count": 7,
   "metadata": {
    "collapsed": true
   },
   "outputs": [],
   "source": [
    "def orderFeatures(dataA, figure=False):\n",
    "    print \"Find most important features relative to target\"\n",
    "    corr = dataA.corr()\n",
    "    corr.sort_values([\"SalePrice\"], ascending = False, inplace = True)\n",
    "    print corr.SalePrice\n",
    "    \n",
    "    if figure :\n",
    "        coefs = pd.Series(corr.SalePrice, index = dataA.columns[1:])\n",
    "        coefs.sort_values( ascending = False, inplace = True)\n",
    "        plt.figure(figsize=(20,20))\n",
    "        coefs.plot(kind = \"barh\")\n",
    "        plt.title(\"Most important eatue relative to target\")\n",
    "        plt.show()\n",
    "\n",
    "    print '--------------------------------------------------------------------------'"
   ]
  },
  {
   "cell_type": "markdown",
   "metadata": {},
   "source": [
    "<p><strong>Affiche le prix moyen en fonction d'une colonne et les statistiques descriptives</strong></p>\n",
    "<dl>\n",
    "<dt>Entrées : </dt>\n",
    "<dd><em>dataA : </em>Tableau de données</dd>\n",
    "<dd><em>label : </em>Label de la colonne à étudier (label, n° colonne)</dd>\n",
    "<dd><em>threshold : </em>Seuil de viabilité de la distribution (entre 0 et 100)\n",
    "<dd><em>log : </em>Moyenne sur le log du prix de vente (bool)</dd>\n",
    "<dt>Sorties :</dt>\n",
    "<dd><em>viable : </em> Vrai si la distribution de la variable est viable, supeérieur au seuil threshold</dd>\n",
    "</dl>\n",
    "<p><em>NB : la moyenne sur les log prix apporte peu car le log écrase trop les valeurs</em></p>"
   ]
  },
  {
   "cell_type": "code",
   "execution_count": 8,
   "metadata": {
    "collapsed": false,
    "scrolled": true
   },
   "outputs": [],
   "source": [
    "def descriptiveStatistics(dataA, label, threshold = 80, log=False):\n",
    "        \n",
    "    labels = list(set(dataA.iloc[:, label[1]].values)) \n",
    "    #print label[0], ' : ',labels\n",
    "    \n",
    "    prices_total = list()\n",
    "    meanPrices_dic = dict()\n",
    "    distribution = dict()\n",
    "    meanPricesA = list()\n",
    "    \n",
    "    for i, l in enumerate(labels) :\n",
    "        if log :\n",
    "            prices = [np.log1p(p[80]) for p in dataA.values if p[label[1]] == l]\n",
    "        else :\n",
    "            prices = [p[80] for p in dataA.values if p[label[1]] == l]\n",
    "        prices_total += prices\n",
    "        meanPricesA.append(np.mean(prices))\n",
    "        meanPrices_dic[labels[i]] = np.mean(prices)\n",
    "        distribution[labels[i]] = len(prices)\n",
    "    \n",
    "    meanPricesA = sort(meanPricesA)\n",
    "    \n",
    "    #On détermine si la variable est viable\n",
    "    maximum = float(distribution[max(distribution, key=distribution.get)])\n",
    "    total = float(sum(distribution.values()))\n",
    "    percent = (maximum/total)*float(100)\n",
    "    viable = percent < threshold\n",
    "    #print 'Per cent of the majority class : ', percent\n",
    "    if not viable :\n",
    "        print 'Distribution of ', label[0],' not viable'\n",
    "        return viable\n",
    "    \n",
    "    print 'Distribution of ', label[0],' :  ',distribution, '\\n'\n",
    "    print 'Mean of Sale Price of ', label[0], ' : ', meanPrices_dic, '\\n'\n",
    "    \n",
    "    #Calcule des statistiques descriptives\n",
    "    minimum = min(prices_total) \n",
    "    maximum = max(prices_total)\n",
    "    prices_total = np.asarray(prices_total)\n",
    "    deviation = np.std(prices_total)\n",
    "    mean = np.mean(prices_total)\n",
    "    variance = np.var(prices_total)\n",
    "    \n",
    "    print 'Stats :\\t min : ', minimum, ' max : ', maximum, ' deviation : ', deviation, ' mean : ', mean, ' variance : ', variance\n",
    "    \n",
    "    #Affichage de la moyenne si la distribution es viable\n",
    "    plt.figure(figsize=(20,5))\n",
    "    if log : \n",
    "        color = 'r'\n",
    "    else :\n",
    "        color = 'b'\n",
    "    plt.bar(range(len(meanPricesA)), meanPricesA, align='center', color=color)\n",
    "    plt.xticks(range(len(labels)), labels, size='small')\n",
    "    plt.xlabel(label[0])\n",
    "    if log : \n",
    "        plt.ylabel(u'Mean log Sale Price')\n",
    "    else:\n",
    "        plt.ylabel(u'Mean Sale Price')\n",
    "    title = 'Sale Price as a function of '+ label[0]\n",
    "    plt.title(title)\n",
    "    plt.show()\n",
    "    \n",
    "    print '--------------------------------------------------------------------------'\n",
    "    \n",
    "    return viable"
   ]
  },
  {
   "cell_type": "markdown",
   "metadata": {},
   "source": [
    "### Main du programme. Lance les différentes fonctionnalités"
   ]
  },
  {
   "cell_type": "code",
   "execution_count": 9,
   "metadata": {
    "collapsed": false,
    "scrolled": true
   },
   "outputs": [
    {
     "name": "stdout",
     "output_type": "stream",
     "text": [
      "dataA stats : \n",
      "dataA.ndim =  2  dataA.shape =  (2926, 81)  dataA.size =  237006\n",
      "--------------------------------------------------------------------------\n",
      "There are 0 duplicate IDs for 2926 total entries\n",
      "--------------------------------------------------------------------------\n",
      "index alphabétiques :  [('MSZoning', 2), ('Street', 5), ('LotShape', 7), ('LandContour', 8), ('Utilities', 9), ('LotConfig', 10), ('LandSlope', 11), ('Neighborhood', 12), ('Condition1', 13), ('Condition2', 14), ('BldgType', 15), ('HouseStyle', 16), ('RoofStyle', 21), ('RoofMatl', 22), ('Exterior1st', 23), ('Exterior2nd', 24), ('MasVnrType', 25), ('ExterQual', 27), ('ExterCond', 28), ('Foundation', 29), ('BsmtQual', 30), ('BsmtCond', 31), ('BsmtExposure', 32), ('BsmtFinType1', 33), ('BsmtFinType2', 35), ('Heating', 39), ('HeatingQC', 40), ('CentralAir', 41), ('Electrical', 42), ('KitchenQual', 53), ('Functional', 55), ('GarageType', 58), ('GarageFinish', 60), ('GarageQual', 63), ('GarageCond', 64), ('PavedDrive', 65), ('Fence', 73), ('SaleType', 78), ('SaleCondition', 79)]  taille :  78\n",
      "--------------------------------------------------------------------------\n",
      "index numériques :  [('Id', 0), ('MSSubClass', 1), ('LotFrontage', 3), ('LotArea', 4), ('Alley', 6), ('OverallQual', 17), ('OverallCond', 18), ('YearBuilt', 19), ('YearRemodAdd', 20), ('MasVnrArea', 26), ('BsmtFinSF1', 34), ('BsmtFinSF2', 36), ('BsmtUnfSF', 37), ('TotalBsmtSF', 38), ('1stFlrSF', 43), ('2ndFlrSF', 44), ('LowQualFinSF', 45), ('GrLivArea', 46), ('BsmtFullBath', 47), ('BsmtHalfBath', 48), ('FullBath', 49), ('HalfBath', 50), ('BedroomAbvGr', 51), ('KitchenAbvGr', 52), ('TotRmsAbvGrd', 54), ('Fireplaces', 56), ('FireplaceQu', 57), ('GarageYrBlt', 59), ('GarageCars', 61), ('GarageArea', 62), ('WoodDeckSF', 66), ('OpenPorchSF', 67), ('EnclosedPorch', 68), ('3SsnPorch', 69), ('ScreenPorch', 70), ('PoolArea', 71), ('PoolQC', 72), ('MiscFeature', 74), ('MiscVal', 75), ('MoSold', 76), ('YrSold', 77), ('SalePrice', 80)]  taille :  84\n",
      "--------------------------------------------------------------------------\n",
      "Les fichiers train_set.csv, valid_set.csv et test_set.csv ont bien été enregistré\n"
     ]
    }
   ],
   "source": [
    "#dataA = dataInput(\"AmesHousingDataCSV4.csv\")\n",
    "dataA = dataInput(\"ACME_data_rec.csv\")\n",
    "\n",
    "#Proportion de la taille des différents ensembles \n",
    "frTr = 0.6\n",
    "frVa = 0.2\n",
    "frTe = 0.2\n",
    "\n",
    "#Tri des indices en fonction du type\n",
    "index_num = []\n",
    "i_num = []\n",
    "index_alp = []\n",
    "i_alp = []\n",
    "heads = list(dataA.columns.values)\n",
    "'''\n",
    "Max = [23, 24, 25, 26, 27, 28, 29, 39, 40, 41, 42, 53, 55, 57]\n",
    "Maxime = []\n",
    "'''\n",
    "i = 0\n",
    "for x in list(dataA.iloc[0]) : \n",
    "    if type(x) == str : \n",
    "        index_alp.append((heads[i], i))\n",
    "        i_alp.append(i)\n",
    "    else : \n",
    "        index_num.append((heads[i], i))\n",
    "        i_num.append(i)\n",
    "    #if i in Max : \n",
    "    #    Maxime.append((heads[i], i))\n",
    "    i += 1\n",
    "\n",
    "print \"index alphabétiques : \", index_alp, ' taille : ', size(index_alp)\n",
    "print '--------------------------------------------------------------------------'\n",
    "print \"index numériques : \", index_num, ' taille : ', size(index_num)\n",
    "print '--------------------------------------------------------------------------'\n",
    "\n",
    "dataA = dataCorrection(dataA)\n",
    "\n",
    "train_set, valid_set, test_set = TrainingValidationTestSets(dataA,frTr,frVa,frTe)"
   ]
  },
  {
   "cell_type": "markdown",
   "metadata": {},
   "source": [
    "### Affiche les features ordonnés par corrélation avec le prix de vente"
   ]
  },
  {
   "cell_type": "code",
   "execution_count": 10,
   "metadata": {
    "collapsed": false,
    "scrolled": true
   },
   "outputs": [
    {
     "name": "stdout",
     "output_type": "stream",
     "text": [
      "Find most important features relative to target\n",
      "SalePrice        1.000000\n",
      "OverallQual      0.802471\n",
      "GrLivArea        0.726977\n",
      "ExterQual        0.700834\n",
      "KitchenQual      0.674720\n",
      "TotalBsmtSF      0.660607\n",
      "GarageCars       0.647995\n",
      "1stFlrSF         0.645520\n",
      "GarageArea       0.643980\n",
      "BsmtQual         0.608557\n",
      "YearBuilt        0.558775\n",
      "GarageFinish     0.550427\n",
      "FullBath         0.546172\n",
      "FireplaceQu      0.534208\n",
      "YearRemodAdd     0.533090\n",
      "GarageYrBlt      0.527214\n",
      "MasVnrArea       0.508296\n",
      "TotRmsAbvGrd     0.499672\n",
      "Fireplaces       0.476185\n",
      "HeatingQC        0.450278\n",
      "BsmtFinSF1       0.450028\n",
      "BsmtExposure     0.400805\n",
      "BsmtFinType1     0.336795\n",
      "WoodDeckSF       0.327784\n",
      "OpenPorchSF      0.317456\n",
      "HalfBath         0.285134\n",
      "GarageQual       0.278184\n",
      "BsmtFullBath     0.276344\n",
      "PavedDrive       0.276218\n",
      "LotArea          0.270373\n",
      "2ndFlrSF         0.269716\n",
      "GarageCond       0.262027\n",
      "BsmtCond         0.210863\n",
      "LotFrontage      0.205513\n",
      "BsmtUnfSF        0.182874\n",
      "BedroomAbvGr     0.143586\n",
      "Functional       0.121988\n",
      "PoolQC           0.118620\n",
      "ScreenPorch      0.112049\n",
      "PoolArea         0.071838\n",
      "Street           0.059568\n",
      "3SsnPorch        0.032183\n",
      "Utilities        0.026054\n",
      "ExterCond        0.021707\n",
      "BsmtFinType2     0.011180\n",
      "BsmtFinSF2       0.005874\n",
      "MiscVal         -0.019357\n",
      "YrSold          -0.030481\n",
      "Id              -0.031566\n",
      "BsmtHalfBath    -0.036094\n",
      "LowQualFinSF    -0.037721\n",
      "LandSlope       -0.066310\n",
      "OverallCond     -0.101236\n",
      "KitchenAbvGr    -0.119954\n",
      "EnclosedPorch   -0.129014\n",
      "LotShape        -0.293544\n",
      "Name: SalePrice, dtype: float64\n",
      "--------------------------------------------------------------------------\n"
     ]
    }
   ],
   "source": [
    "orderFeatures(dataA)"
   ]
  },
  {
   "cell_type": "markdown",
   "metadata": {},
   "source": [
    "### Affiche le prix de vente moyenne de toutes les variables discrètes"
   ]
  },
  {
   "cell_type": "code",
   "execution_count": 11,
   "metadata": {
    "collapsed": false,
    "scrolled": true
   },
   "outputs": [
    {
     "name": "stdout",
     "output_type": "stream",
     "text": [
      "Distribution of  MSZoning  :   {'I (all)': 1, 'FV': 84, 'C (all)': 16, 'RL': 1370, 'RM': 266, 'RH': 17, 'A (agr)': 2} \n",
      "\n",
      "Mean of Sale Price of  MSZoning  :  {'I (all)': 57625.0, 'FV': 219861.52380952382, 'C (all)': 80561.25, 'RL': 191206.70000000001, 'RM': 126014.04135338347, 'RH': 136166.70588235295, 'A (agr)': 47300.0} \n",
      "\n",
      "Stats :\t min :  12789  max :  755000  deviation :  78940.466636  mean :  180921.025626  variance :  6231597272.7\n"
     ]
    },
    {
     "data": {
      "image/png": "[encoded data removed]",
      "text/plain": [
       "<matplotlib.figure.Figure at 0x7f06d6216cd0>"
      ]
     },
     "metadata": {},
     "output_type": "display_data"
    },
    {
     "name": "stdout",
     "output_type": "stream",
     "text": [
      "--------------------------------------------------------------------------\n",
      "Distribution of  Street  not viable\n",
      "Distribution of  LotShape  :   {1: 12, 2: 48, 3: 582, 4: 1114} \n",
      "\n",
      "Mean of Sale Price of  LotShape  :  {1: 235938.75, 2: 230592.39583333334, 3: 212627.72680412373, 4: 161623.23518850986} \n",
      "\n",
      "Stats :\t min :  12789  max :  755000  deviation :  78940.466636  mean :  180921.025626  variance :  6231597272.7\n"
     ]
    },
    {
     "data": {
      "image/png": "[encoded data removed]",
      "text/plain": [
       "<matplotlib.figure.Figure at 0x7f06d618a790>"
      ]
     },
     "metadata": {},
     "output_type": "display_data"
    },
    {
     "name": "stdout",
     "output_type": "stream",
     "text": [
      "--------------------------------------------------------------------------\n",
      "Distribution of  LandContour  not viable\n",
      "Distribution of  Utilities  not viable\n",
      "Distribution of  LotConfig  :   {'CulDSac': 109, 'FR2': 44, 'Inside': 1282, 'Corner': 310, 'FR3': 11} \n",
      "\n",
      "Mean of Sale Price of  LotConfig  :  {'CulDSac': 222615.623853211, 'FR2': 175008.63636363635, 'Inside': 177743.37831513261, 'Corner': 178899.75806451612, 'FR3': 218718.36363636365} \n",
      "\n",
      "Stats :\t min :  12789  max :  755000  deviation :  78940.466636  mean :  180921.025626  variance :  6231597272.7\n"
     ]
    },
    {
     "data": {
      "image/png": "[encoded data removed]",
      "text/plain": [
       "<matplotlib.figure.Figure at 0x7f06d60169d0>"
      ]
     },
     "metadata": {},
     "output_type": "display_data"
    },
    {
     "name": "stdout",
     "output_type": "stream",
     "text": [
      "--------------------------------------------------------------------------\n",
      "Distribution of  LandSlope  not viable\n",
      "Distribution of  Neighborhood  :   {'IDOTRR': 58, 'Edwards': 107, 'BrkSide': 58, 'OldTown': 136, 'NoRidge': 44, 'Veenker': 15, 'NAmes': 274, 'Gilbert': 101, 'SWISU': 31, 'Blmngtn': 20, 'Landmrk': 1, 'NridgHt': 98, 'NWAmes': 75, 'StoneBr': 31, 'Somerst': 106, 'MeadowV': 25, 'ClearCr': 20, 'Greens': 3, 'SawyerW': 80, 'Sawyer': 88, 'CollgCr': 172, 'Crawfor': 66, 'BrDale': 21, 'Mitchel': 68, 'NPkVill': 12, 'Blueste': 6, 'Timber': 40} \n",
      "\n",
      "Mean of Sale Price of  Neighborhood  :  {'IDOTRR': 103308.5, 'Edwards': 133093.65420560748, 'BrkSide': 130236.63793103448, 'OldTown': 124470.24264705883, 'NoRidge': 329841.09090909088, 'Veenker': 257770.0, 'NAmes': 145055.11313868614, 'Gilbert': 189609.67326732673, 'SWISU': 139249.48387096773, 'Blmngtn': 199192.85000000001, 'Landmrk': 137000.0, 'NridgHt': 314237.86734693876, 'NWAmes': 188325.33333333334, 'StoneBr': 313909.54838709679, 'Somerst': 229417.0754716981, 'MeadowV': 93167.600000000006, 'ClearCr': 217311.60000000001, 'Greens': 185583.33333333334, 'SawyerW': 183882.47500000001, 'Sawyer': 136776.88636363635, 'CollgCr': 202489.93604651163, 'Crawfor': 205426.89393939395, 'BrDale': 106130.95238095238, 'Mitchel': 159706.41176470587, 'NPkVill': 144712.5, 'Blueste': 147000.0, 'Timber': 255696.72500000001} \n",
      "\n",
      "Stats :\t min :  12789  max :  755000  deviation :  78940.466636  mean :  180921.025626  variance :  6231597272.7\n"
     ]
    },
    {
     "data": {
      "image/png": "[encoded data removed]",
      "text/plain": [
       "<matplotlib.figure.Figure at 0x7f06d3acc190>"
      ]
     },
     "metadata": {},
     "output_type": "display_data"
    },
    {
     "name": "stdout",
     "output_type": "stream",
     "text": [
      "--------------------------------------------------------------------------\n",
      "Distribution of  Condition1  not viable\n",
      "Distribution of  Condition2  not viable\n",
      "Distribution of  BldgType  not viable\n",
      "Distribution of  HouseStyle  :   {'1.5Unf': 12, '2.5Fin': 7, '2Story': 544, 'SFoyer': 45, '1.5Fin': 176, '2.5Unf': 13, 'SLvl': 74, '1Story': 885} \n",
      "\n",
      "Mean of Sale Price of  HouseStyle  :  {'1.5Unf': 108800.0, '2.5Fin': 222857.14285714287, '2Story': 206034.20220588235, 'SFoyer': 148270.48888888888, '1.5Fin': 134998.27272727274, '2.5Unf': 186607.69230769231, 'SLvl': 164897.29729729731, '1Story': 178179.6011299435} \n",
      "\n",
      "Stats :\t min :  12789  max :  755000  deviation :  78940.466636  mean :  180921.025626  variance :  6231597272.7\n"
     ]
    },
    {
     "data": {
      "image/png": "[encoded data removed]",
      "text/plain": [
       "<matplotlib.figure.Figure at 0x7f06d3abcb10>"
      ]
     },
     "metadata": {},
     "output_type": "display_data"
    },
    {
     "name": "stdout",
     "output_type": "stream",
     "text": [
      "--------------------------------------------------------------------------\n",
      "Distribution of  RoofStyle  not viable\n",
      "Distribution of  RoofMatl  not viable\n",
      "Distribution of  Exterior1st  :   {'Stone': 2, 'HdBoard': 274, 'BrkComm': 5, 'WdShing': 31, 'VinylSd': 621, 'Wd Sdng': 254, 'AsbShng': 30, 'AsphShn': 2, 'BrkFace': 52, 'Plywood': 127, 'CemntBd': 80, 'PreCast': 1, 'MetalSd': 250, 'CBlock': 2, 'Stucco': 25} \n",
      "\n",
      "Mean of Sale Price of  Exterior1st  :  {'Stone': 258500.0, 'HdBoard': 162122.00729927007, 'BrkComm': 153000.0, 'WdShing': 158974.80645161291, 'VinylSd': 214994.80837359099, 'Wd Sdng': 145849.50393700789, 'AsbShng': 98953.333333333328, 'AsphShn': 91187.5, 'BrkFace': 189433.65384615384, 'Plywood': 170112.3622047244, 'CemntBd': 228706.11249999999, 'PreCast': 260000.0, 'MetalSd': 156497.86799999999, 'CBlock': 93250.0, 'Stucco': 161394.84} \n",
      "\n",
      "Stats :\t min :  12789  max :  755000  deviation :  78940.466636  mean :  180921.025626  variance :  6231597272.7\n"
     ]
    },
    {
     "data": {
      "image/png": "[encoded data removed]",
      "text/plain": [
       "<matplotlib.figure.Figure at 0x7f06d347cd90>"
      ]
     },
     "metadata": {},
     "output_type": "display_data"
    },
    {
     "name": "stdout",
     "output_type": "stream",
     "text": [
      "--------------------------------------------------------------------------\n",
      "Distribution of  Exterior2nd  :   {'Brk Cmn': 13, 'Stone': 5, 'HdBoard': 256, 'CmentBd': 82, 'VinylSd': 619, 'ImStucc': 6, 'Wd Sdng': 247, 'AsbShng': 22, 'AsphShn': 3, 'BrkFace': 31, 'Wd Shng': 47, 'Plywood': 152, 'PreCast': 1, 'MetalSd': 246, 'CBlock': 2, 'Stucco': 24} \n",
      "\n",
      "Mean of Sale Price of  Exterior2nd  :  {'Brk Cmn': 143192.30769230769, 'Stone': 156504.79999999999, 'HdBoard': 163210.140625, 'CmentBd': 230036.45121951221, 'VinylSd': 214970.82714054929, 'ImStucc': 190000.0, 'Wd Sdng': 147497.87449392711, 'AsbShng': 98118.181818181823, 'AsphShn': 119125.0, 'BrkFace': 193069.35483870967, 'Wd Shng': 150628.44680851063, 'Plywood': 165196.125, 'PreCast': 260000.0, 'MetalSd': 157971.4105691057, 'CBlock': 132500.0, 'Stucco': 153881.45833333334} \n",
      "\n",
      "Stats :\t min :  12789  max :  755000  deviation :  78940.466636  mean :  180921.025626  variance :  6231597272.7\n"
     ]
    },
    {
     "data": {
      "image/png": "[encoded data removed]",
      "text/plain": [
       "<matplotlib.figure.Figure at 0x7f06d350d7d0>"
      ]
     },
     "metadata": {},
     "output_type": "display_data"
    },
    {
     "name": "stdout",
     "output_type": "stream",
     "text": [
      "--------------------------------------------------------------------------\n",
      "Distribution of  MasVnrType  :   {'None': 1081, 'BrkFace': 525, 'CBlock': 1, 'Stone': 136, 'BrkCmn': 13} \n",
      "\n",
      "Mean of Sale Price of  MasVnrType  :  {'None': 157869.09898242369, 'BrkFace': 211046.43428571429, 'CBlock': 80000.0, 'Stone': 254124.82352941178, 'BrkCmn': 123113.15384615384} \n",
      "\n",
      "Stats :\t min :  12789  max :  755000  deviation :  78940.466636  mean :  180921.025626  variance :  6231597272.7\n"
     ]
    },
    {
     "data": {
      "image/png": "[encoded data removed]",
      "text/plain": [
       "<matplotlib.figure.Figure at 0x7f06d32dee90>"
      ]
     },
     "metadata": {},
     "output_type": "display_data"
    },
    {
     "name": "stdout",
     "output_type": "stream",
     "text": [
      "--------------------------------------------------------------------------\n",
      "Distribution of  ExterQual  :   {2: 20, 3: 1082, 4: 604, 5: 50} \n",
      "\n",
      "Mean of Sale Price of  ExterQual  :  {2: 84879.649999999994, 3: 143987.03327171903, 4: 233023.36258278147, 5: 389192.94} \n",
      "\n",
      "Stats :\t min :  12789  max :  755000  deviation :  78940.466636  mean :  180921.025626  variance :  6231597272.7\n"
     ]
    },
    {
     "data": {
      "image/png": "[encoded data removed]",
      "text/plain": [
       "<matplotlib.figure.Figure at 0x7f06d312bd90>"
      ]
     },
     "metadata": {},
     "output_type": "display_data"
    },
    {
     "name": "stdout",
     "output_type": "stream",
     "text": [
      "--------------------------------------------------------------------------\n",
      "Distribution of  ExterCond  not viable\n",
      "Distribution of  Foundation  :   {'Stone': 9, 'BrkTil': 182, 'CBlock': 740, 'PConc': 792, 'Wood': 1, 'Slab': 32} \n",
      "\n",
      "Mean of Sale Price of  Foundation  :  {'Stone': 140630.66666666666, 'BrkTil': 133283.14835164836, 'CBlock': 148466.63648648647, 'PConc': 225400.17424242425, 'Wood': 202000.0, 'Slab': 112183.21875} \n",
      "\n",
      "Stats :\t min :  12789  max :  755000  deviation :  78940.466636  mean :  180921.025626  variance :  6231597272.7\n"
     ]
    },
    {
     "data": {
      "image/png": "[encoded data removed]",
      "text/plain": [
       "<matplotlib.figure.Figure at 0x7f06d327e490>"
      ]
     },
     "metadata": {},
     "output_type": "display_data"
    },
    {
     "name": "stdout",
     "output_type": "stream",
     "text": [
      "--------------------------------------------------------------------------\n",
      "Distribution of  BsmtQual  :   {0: 55, 1: 2, 2: 50, 3: 758, 4: 755, 5: 136} \n",
      "\n",
      "Mean of Sale Price of  BsmtQual  :  {0: 105363.16363636364, 1: 84950.0, 2: 110011.02, 3: 140452.7796833773, 4: 203379.09271523179, 5: 339834.3676470588} \n",
      "\n",
      "Stats :\t min :  12789  max :  755000  deviation :  78940.466636  mean :  180921.025626  variance :  6231597272.7\n"
     ]
    },
    {
     "data": {
      "image/png": "[encoded data removed]",
      "text/plain": [
       "<matplotlib.figure.Figure at 0x7f06d32001d0>"
      ]
     },
     "metadata": {},
     "output_type": "display_data"
    },
    {
     "name": "stdout",
     "output_type": "stream",
     "text": [
      "--------------------------------------------------------------------------\n",
      "Distribution of  BsmtCond  not viable\n",
      "Distribution of  BsmtExposure  :   {0: 1188, 1: 150, 2: 252, 3: 166} \n",
      "\n",
      "Mean of Sale Price of  BsmtExposure  :  {0: 162822.48400673401, 1: 187257.45999999999, 2: 208166.21428571429, 3: 263359.6686746988} \n",
      "\n",
      "Stats :\t min :  12789  max :  755000  deviation :  78940.466636  mean :  180921.025626  variance :  6231597272.7\n"
     ]
    },
    {
     "data": {
      "image/png": "[encoded data removed]",
      "text/plain": [
       "<matplotlib.figure.Figure at 0x7f06d32e8710>"
      ]
     },
     "metadata": {},
     "output_type": "display_data"
    },
    {
     "name": "stdout",
     "output_type": "stream",
     "text": [
      "--------------------------------------------------------------------------\n",
      "Distribution of  BsmtFinType1  :   {0: 55, 1: 504, 2: 89, 3: 177, 4: 167, 5: 252, 6: 512} \n",
      "\n",
      "Mean of Sale Price of  BsmtFinType1  :  {0: 105363.16363636364, 1: 169024.6507936508, 2: 155073.59550561797, 3: 141802.11864406778, 4: 150031.05389221557, 5: 166819.31746031746, 6: 235780.75} \n",
      "\n",
      "Stats :\t min :  12789  max :  755000  deviation :  78940.466636  mean :  180921.025626  variance :  6231597272.7\n"
     ]
    },
    {
     "data": {
      "image/png": "[encoded data removed]",
      "text/plain": [
       "<matplotlib.figure.Figure at 0x7f06d3446590>"
      ]
     },
     "metadata": {},
     "output_type": "display_data"
    },
    {
     "name": "stdout",
     "output_type": "stream",
     "text": [
      "--------------------------------------------------------------------------\n",
      "Distribution of  BsmtFinType2  not viable\n",
      "Distribution of  Heating  not viable\n",
      "Distribution of  HeatingQC  :   {1: 2, 2: 48, 3: 528, 4: 278, 5: 900} \n",
      "\n",
      "Mean of Sale Price of  HeatingQC  :  {1: 50050.0, 2: 123999.22916666667, 3: 140429.05492424243, 4: 159035.1582733813, 5: 214763.26999999999} \n",
      "\n",
      "Stats :\t min :  12789  max :  755000  deviation :  78940.466636  mean :  180921.025626  variance :  6231597272.7\n"
     ]
    },
    {
     "data": {
      "image/png": "[encoded data removed]",
      "text/plain": [
       "<matplotlib.figure.Figure at 0x7f06d3364b10>"
      ]
     },
     "metadata": {},
     "output_type": "display_data"
    },
    {
     "name": "stdout",
     "output_type": "stream",
     "text": [
      "--------------------------------------------------------------------------\n",
      "Distribution of  CentralAir  not viable\n",
      "Distribution of  Electrical  not viable\n",
      "Distribution of  KitchenQual  :   {2: 38, 3: 886, 4: 710, 5: 122} \n",
      "\n",
      "Mean of Sale Price of  KitchenQual  :  {2: 103785.34210526316, 3: 139674.15801354402, 4: 210671.81830985917, 5: 331353.95901639346} \n",
      "\n",
      "Stats :\t min :  12789  max :  755000  deviation :  78940.466636  mean :  180921.025626  variance :  6231597272.7\n"
     ]
    },
    {
     "name": "stderr",
     "output_type": "stream",
     "text": [
      "/home/maxougj/anaconda2/lib/python2.7/site-packages/numpy/core/_methods.py:59: RuntimeWarning: Mean of empty slice.\n",
      "  warnings.warn(\"Mean of empty slice.\", RuntimeWarning)\n"
     ]
    },
    {
     "data": {
      "image/png": "[encoded data removed]",
      "text/plain": [
       "<matplotlib.figure.Figure at 0x7f06d34d1410>"
      ]
     },
     "metadata": {},
     "output_type": "display_data"
    },
    {
     "name": "stdout",
     "output_type": "stream",
     "text": [
      "--------------------------------------------------------------------------\n",
      "Distribution of  Functional  not viable\n",
      "Distribution of  GarageType  :   {'Basment': 21, 'Detchd': 477, 'No': 90, 'Attchd': 1045, 'BuiltIn': 108, '2Types': 6, 'CarPort': 9} \n",
      "\n",
      "Mean of Sale Price of  GarageType  :  {'Basment': 142311.57142857142, 'Detchd': 135352.42348008385, 'No': 101253.05555555556, 'Attchd': 202807.23253588518, 'BuiltIn': 252154.0648148148, '2Types': 154600.0, 'CarPort': 104344.44444444444} \n",
      "\n",
      "Stats :\t min :  12789  max :  755000  deviation :  78940.466636  mean :  180921.025626  variance :  6231597272.7\n"
     ]
    },
    {
     "data": {
      "image/png": "[encoded data removed]",
      "text/plain": [
       "<matplotlib.figure.Figure at 0x7f06d33b7050>"
      ]
     },
     "metadata": {},
     "output_type": "display_data"
    },
    {
     "name": "stdout",
     "output_type": "stream",
     "text": [
      "--------------------------------------------------------------------------\n",
      "Distribution of  GarageFinish  :   {0: 92, 1: 736, 2: 500, 3: 428} \n",
      "\n",
      "Mean of Sale Price of  GarageFinish  :  {0: 102431.34782608696, 1: 141681.69836956522, 2: 204894.55600000001, 3: 237263.15186915887} \n",
      "\n",
      "Stats :\t min :  12789  max :  755000  deviation :  78940.466636  mean :  180921.025626  variance :  6231597272.7\n"
     ]
    },
    {
     "data": {
      "image/png": "[encoded data removed]",
      "text/plain": [
       "<matplotlib.figure.Figure at 0x7f06d3372c10>"
      ]
     },
     "metadata": {},
     "output_type": "display_data"
    },
    {
     "name": "stdout",
     "output_type": "stream",
     "text": [
      "--------------------------------------------------------------------------\n",
      "Distribution of  GarageQual  not viable\n",
      "Distribution of  GarageCond  not viable\n",
      "Distribution of  PavedDrive  not viable\n",
      "Distribution of  Fence  not viable\n",
      "Distribution of  SaleType  not viable\n",
      "Distribution of  SaleCondition  not viable\n",
      "\n",
      "There are  17 viable index\n",
      "Viable index :  [('MSZoning', 2), ('LotShape', 7), ('LotConfig', 10), ('Neighborhood', 12), ('HouseStyle', 16), ('Exterior1st', 23), ('Exterior2nd', 24), ('MasVnrType', 25), ('ExterQual', 27), ('Foundation', 29), ('BsmtQual', 30), ('BsmtExposure', 32), ('BsmtFinType1', 33), ('HeatingQC', 40), ('KitchenQual', 53), ('GarageType', 58), ('GarageFinish', 60)]\n",
      "\n",
      "--------------------------------------------------------------------------\n"
     ]
    }
   ],
   "source": [
    "viables = list()\n",
    "\n",
    "for i in range(len(index_alp)) : \n",
    "    #descriptiveStatistics(dataA, index_alp[i]) #affiche les prix moyens sur tout l'ensemble de données\n",
    "    #print 'Moyenne des prix de vente sur l\\'ensemble d\\'entrainement de  : ', index_alp[i][0], '\\n'\n",
    "    if descriptiveStatistics(train_set, index_alp[i]) :\n",
    "        viables.append(index_alp[i])\n",
    "\n",
    "print '\\nThere are ', len(viables), 'viable index'\n",
    "print 'Viable index : ', viables\n",
    "print '\\n--------------------------------------------------------------------------'"
   ]
  },
  {
   "cell_type": "markdown",
   "metadata": {},
   "source": [
    "<p>Nous avons comme caractéristiques ordinales intéresantes: \n",
    "<ul>\n",
    "<li>7) Lot shape (-0,29)</li>\n",
    "<li>27) ExterQual (0,70)</li>\n",
    "<li>30) BsmtQual (0,60)</li>\n",
    "<li>32) BsmtExposure (0,40)</li>\n",
    "<li>33) BsmtFinType (0,33)</li>\n",
    "<li>40) HeatingQC (0,45)</li>\n",
    "<li>53) KitchenQual (0,67)</li>\n",
    "<li>60) GarageFinish (0,55)</li>\n",
    "</ul>\n",
    "<br>\n",
    "Et d'autre part les variables nominales: \n",
    "<ul>\n",
    "<li>2) MSZoning</li>\n",
    "<li>10) LotConfig</li>\n",
    "<li>12) Neighborhood</li>\n",
    "<li>16) HouseStyle</li>\n",
    "<li>23) Exterior1st</li>\n",
    "<li>24) Exterior2nd</li>\n",
    "<li>25) MasVnrType (0,50)</li>\n",
    "<li>29) Foundation</li>\n",
    "<li>58) GarageType</li>\n",
    "</ul>\n",
    "<br>\n",
    "<em>Entre parenthèse le coefficient de corrélation au prix de vente</em>\n",
    "</p>"
   ]
  },
  {
   "cell_type": "markdown",
   "metadata": {},
   "source": [
    "Création de tous les ensembles de données après sélection"
   ]
  },
  {
   "cell_type": "code",
   "execution_count": 12,
   "metadata": {
    "collapsed": false,
    "scrolled": true
   },
   "outputs": [
    {
     "name": "stdout",
     "output_type": "stream",
     "text": [
      "dataTot.shape :  (2926, 148)\n",
      "data_train_Tot.shape :  (1756, 145)\n",
      "data_valid_Tot.shape :  (2341, 145)\n",
      "data_test_Tot.shape :  (2341, 145)\n"
     ]
    }
   ],
   "source": [
    "ordviable = [7, 27, 30, 32, 33, 40, 53]\n",
    "nomviable = [2, 10, 12, 16, 23, 24, 25, 29, 58]\n",
    "\n",
    "#Ensemble de données numériques\n",
    "dataNumTot = dataA.iloc[:, i_num]\n",
    "train_set_Num = train_set.iloc[:, i_num]\n",
    "valid_set_Num = valid_set.iloc[:, i_num]\n",
    "test_set_Num = test_set.iloc[:, i_num]\n",
    "\n",
    "#Sur l'ensemble complet\n",
    "dataOrdTot = dataA.iloc[:, ordviable]\n",
    "dataNomTot = dataA.iloc[:, nomviable]\n",
    "dataNomOneHotTot = pd.get_dummies(dataNomTot)\n",
    "dataTot = pd.concat([dataNumTot, dataOrdTot, dataNomOneHotTot], axis=1)\n",
    "\n",
    "#Sur l'ensemble d'entrainement\n",
    "data_train_Ord = train_set.iloc[:, ordviable]\n",
    "data_train_Nom = train_set.iloc[:, nomviable]\n",
    "data_train_NomOneHot = pd.get_dummies(data_train_Nom)\n",
    "data_train_Tot = pd.concat([train_set_Num, data_train_Ord, data_train_NomOneHot], axis=1)\n",
    "\n",
    "#Sur l'ensemble de validation\n",
    "data_valid_Ord = train_set.iloc[:, ordviable]\n",
    "data_valid_Nom = train_set.iloc[:, nomviable]\n",
    "data_valid_NomOneHot = pd.get_dummies(data_valid_Nom)\n",
    "data_valid_Tot = pd.concat([valid_set_Num, data_valid_Ord, data_valid_NomOneHot], axis=1)\n",
    "\n",
    "#Sur l'ensemble de test\n",
    "data_test_Ord = train_set.iloc[:, ordviable]\n",
    "data_test_Nom = train_set.iloc[:, nomviable]\n",
    "data_test_NomOneHot = pd.get_dummies(data_test_Nom)\n",
    "data_test_Tot = pd.concat([test_set_Num, data_test_Ord, data_test_NomOneHot], axis=1)\n",
    "\n",
    "print 'dataTot.shape : ',dataTot.shape\n",
    "print 'data_train_Tot.shape : ',data_train_Tot.shape \n",
    "print 'data_valid_Tot.shape : ',data_valid_Tot.shape \n",
    "print 'data_test_Tot.shape : ',data_test_Tot.shape "
   ]
  },
  {
   "cell_type": "markdown",
   "metadata": {},
   "source": [
    "Affichage de la corrélation des variables nominales gardées après onehot"
   ]
  },
  {
   "cell_type": "markdown",
   "metadata": {},
   "source": [
    "# Mise en place du réseau de neurones"
   ]
  },
  {
   "cell_type": "code",
   "execution_count": 4,
   "metadata": {
    "collapsed": false
   },
   "outputs": [
    {
     "name": "stdout",
     "output_type": "stream",
     "text": [
      "dataA stats : \n",
      "dataA.ndim =  2  dataA.shape =  (1755, 238)  dataA.size =  417690\n",
      "--------------------------------------------------------------------------\n",
      "There are 0 duplicate IDs for 1755 total entries\n",
      "--------------------------------------------------------------------------\n",
      "dataA stats : \n",
      "dataA.ndim =  2  dataA.shape =  (585, 238)  dataA.size =  139230\n",
      "--------------------------------------------------------------------------\n",
      "There are 0 duplicate IDs for 585 total entries\n",
      "--------------------------------------------------------------------------\n",
      "dataA stats : \n",
      "dataA.ndim =  2  dataA.shape =  (585, 238)  dataA.size =  139230\n",
      "--------------------------------------------------------------------------\n",
      "There are 0 duplicate IDs for 585 total entries\n",
      "--------------------------------------------------------------------------\n"
     ]
    }
   ],
   "source": [
    "train_data = dataInput(\"final_train.csv\")\n",
    "valid_data = dataInput(\"final_valid.csv\")\n",
    "test_data = dataInput(\"final_test.csv\")\n",
    "\n",
    "x = train_data.iloc[1, train_data.columns != 'SalePrice'].as_matrix()\n",
    "y = train_data.iloc[1, train_data.columns == 'SalePrice'].as_matrix()\n",
    "\n",
    "data_train_x = train_data.iloc[:,train_data.columns != 'SalePrice'].as_matrix()\n",
    "data_train_y = train_data.iloc[:, train_data.columns == 'SalePrice'].as_matrix()\n",
    "data_valid_x = valid_data.iloc[:,valid_data.columns != 'SalePrice'].as_matrix()\n",
    "data_valid_y = valid_data.iloc[:, valid_data.columns == 'SalePrice'].as_matrix()\n",
    "data_test_x = test_data.iloc[:,test_data.columns != 'SalePrice'].as_matrix()\n",
    "data_test_y = test_data.iloc[:, test_data.columns == 'SalePrice'].as_matrix()"
   ]
  },
  {
   "cell_type": "markdown",
   "metadata": {},
   "source": [
    "Calcul le pourcentage d'erreur de prédiction sur l'ensemble data\n",
    "\n",
    "**Entrées : **\n",
    "* data_x : ensembles de variales de maison sans prix\n",
    "* data_y : prix des maisons\n",
    "* predict : ensemble des prédictions sur le l'ensemble\n",
    "\n",
    "**Sorties : **\n",
    "* Le pourcentage d'erreur de prédiction et l'erreur au carré\n",
    "* L'erreur carrée moyenne"
   ]
  },
  {
   "cell_type": "code",
   "execution_count": 16,
   "metadata": {
    "collapsed": false
   },
   "outputs": [],
   "source": [
    "def computeError(data_x, data_y, predict) :\n",
    "    error = 0\n",
    "    for i in range(len(data_x)):\n",
    "        err = np.abs(predict[i] - data_y[i][0])\n",
    "        error += (err/data_y[i][0])*100\n",
    "    return (error / len(data_x)), (err**2 / len(data_x))\n"
   ]
  },
  {
   "cell_type": "markdown",
   "metadata": {},
   "source": [
    "## Test des différentes activations"
   ]
  },
  {
   "cell_type": "code",
   "execution_count": 17,
   "metadata": {
    "collapsed": false
   },
   "outputs": [
    {
     "name": "stdout",
     "output_type": "stream",
     "text": [
      "activation :  identity\n",
      "error train :  15.1125002845 %\n",
      "error valid :  13.7325642008 %\n",
      "score train :  0.79794089658\n",
      "score valid :  0.804995167161\n",
      "rsme train :  241644.483007\n",
      "rsme valid :  396020.061217\n",
      "activation :  logistic\n",
      "error train :  99.9127768119 %\n",
      "error valid :  99.9125931113 %\n",
      "score train :  -5.13156218296\n",
      "score valid :  -5.43221254976\n",
      "rsme train :  23914663.5097\n",
      "rsme valid :  33440350.0925\n",
      "activation :  tanh\n",
      "error train :  99.8767338451 %\n",
      "error valid :  99.8762129346 %\n",
      "score train :  -5.12842121734\n",
      "score valid :  -5.42882742838\n",
      "rsme train :  23901540.4076\n",
      "rsme valid :  33413473.5926\n",
      "activation :  relu\n",
      "error train :  14.7375119297 %\n",
      "error valid :  13.7047757571 %\n",
      "score train :  0.816816715739\n",
      "score valid :  0.816865242012\n",
      "rsme train :  119813.036584\n",
      "rsme valid :  489203.106127\n"
     ]
    }
   ],
   "source": [
    "errors_activation_train = []\n",
    "scores_activation_train = []\n",
    "scores_activation_valid = []\n",
    "activations = [\"identity\", \"logistic\", \"tanh\", \"relu\"]\n",
    "\n",
    "for activation in activations : \n",
    "    regressor_activation = MLPRegressor(activation=activation)\n",
    "    regressor_activation.fit(data_train_x, data_train_y)\n",
    "\n",
    "    predict_train = regressor_activation.predict(data_train_x)\n",
    "    predict_valid = regressor_activation.predict(data_valid_x)\n",
    "    predict_test = regressor_activation.predict(data_test_x)\n",
    "    \n",
    "    score_train = regressor_activation.score(data_train_x, data_train_y)\n",
    "    score_valid = regressor_activation.score(data_valid_x, data_valid_y)\n",
    "    score_test = regressor_activation.score(data_test_x, data_test_y)\n",
    "    \n",
    "    scores_activation_train.append(score_train)\n",
    "    scores_activation_valid.append(score_valid)\n",
    "    \n",
    "    error_train, rsme_train = computeError(data_train_x, data_train_y, predict_train)\n",
    "    error_valid, rsme_valid = computeError(data_valid_x, data_valid_y, predict_valid)\n",
    "    errors_activation_train.append(error_train)\n",
    "    \n",
    "    print \"activation : \", activation\n",
    "    print \"error train : \", error_train, \"%\"\n",
    "    print \"error valid : \", error_valid, \"%\"\n",
    "    print \"score train : \", score_train \n",
    "    print \"score valid : \", score_valid\n",
    "    print \"rsme train : \", rsme_train\n",
    "    print \"rsme valid : \", rsme_valid"
   ]
  },
  {
   "cell_type": "code",
   "execution_count": 18,
   "metadata": {
    "collapsed": false
   },
   "outputs": [
    {
     "data": {
      "image/png": "[encoded data removed]",
      "text/plain": [
       "<matplotlib.figure.Figure at 0x7fc9169db410>"
      ]
     },
     "metadata": {},
     "output_type": "display_data"
    }
   ],
   "source": [
    "plt.bar(range(len(activations)), errors_activation_train, align=\"center\")\n",
    "plt.ylabel(\"mean error\")\n",
    "plt.xlabel(\"activation\")\n",
    "plt.xticks(range(len(activations)), activations, size='small')\n",
    "plt.title(\"mean error in function of activation\")\n",
    "plt.grid(True)\n",
    "plt.show()"
   ]
  },
  {
   "cell_type": "code",
   "execution_count": 19,
   "metadata": {
    "collapsed": false
   },
   "outputs": [
    {
     "data": {
      "image/png": "[encoded data removed]",
      "text/plain": [
       "<matplotlib.figure.Figure at 0x7fc915d22790>"
      ]
     },
     "metadata": {},
     "output_type": "display_data"
    }
   ],
   "source": [
    "scores_train_acti = [1-x for x in scores_activation_train]\n",
    "scores_valid_acti = [1-x for x in scores_activation_valid]\n",
    "plt.plot(scores_train_acti, 'ro', label='train')\n",
    "plt.plot(scores_valid_acti, 'g^', label='valid')\n",
    "plt.legend(bbox_to_anchor=(1.05, 1), loc=2, borderaxespad=0.)\n",
    "plt.ylabel(\"error (1-R^2)\")\n",
    "plt.xlabel(\"activation\")\n",
    "plt.title(\"score in function of activation\")\n",
    "plt.xticks(range(len(activations)), activations, size='small')\n",
    "plt.show()"
   ]
  },
  {
   "cell_type": "markdown",
   "metadata": {},
   "source": [
    "** On sélectionne d'après ces test l'activation relu (activation par défaut). **"
   ]
  },
  {
   "cell_type": "markdown",
   "metadata": {},
   "source": [
    "## Test du nombre de neurones sur la couche cachée"
   ]
  },
  {
   "cell_type": "markdown",
   "metadata": {},
   "source": [
    "** Test en boucle de la taille de la couche cachée avec le solver lbfgs **"
   ]
  },
  {
   "cell_type": "code",
   "execution_count": 30,
   "metadata": {
    "collapsed": false
   },
   "outputs": [
    {
     "name": "stdout",
     "output_type": "stream",
     "text": [
      "layer size :  2048\n",
      "score train :  0.838645263264\n",
      "score valid :  0.829134782285 \n",
      "\n",
      "layer size :  4096\n",
      "score train :  0.840524539996\n",
      "score valid :  0.829561703949 \n",
      "\n",
      "layer size :  8192\n",
      "score train :  0.842565833897\n",
      "score valid :  0.826413144124 \n",
      "\n",
      "layer size :  16384\n",
      "score train :  0.842791843087\n",
      "score valid :  0.829599164212 \n",
      "\n"
     ]
    }
   ],
   "source": [
    "scores_train_layer2 = []\n",
    "scores_valid_layer2 = []\n",
    "\n",
    "layer_sizes = list()\n",
    "for i in range(11,15):\n",
    "    layer_sizes.append(2**i)\n",
    "\n",
    "for size in layer_sizes : \n",
    "    scores_t = []\n",
    "    scores_v = []\n",
    "    for i in range(0,3):\n",
    "        regressor = MLPRegressor(hidden_layer_sizes=size, solver=\"lbfgs\")\n",
    "\n",
    "        regressor.fit(data_train_x, data_train_y)\n",
    "        score_train = regressor.score(data_train_x, data_train_y)\n",
    "        score_valid = regressor.score(data_valid_x, data_valid_y)\n",
    "\n",
    "        scores_t.append(score_train)\n",
    "        scores_v.append(score_valid)\n",
    "    \n",
    "    scores_train_layer2.append(np.mean(scores_t))\n",
    "    scores_valid_layer2.append(np.mean(scores_v))\n",
    "    \n",
    "    print \"layer size : \", size\n",
    "    print \"score train : \", np.mean(scores_t)\n",
    "    print \"score valid : \", np.mean(scores_v), \"\\n\""
   ]
  },
  {
   "cell_type": "code",
   "execution_count": 31,
   "metadata": {
    "collapsed": false
   },
   "outputs": [
    {
     "data": {
      "image/png": "[encoded data removed]",
      "text/plain": [
       "<matplotlib.figure.Figure at 0x7fc915c1aa10>"
      ]
     },
     "metadata": {},
     "output_type": "display_data"
    },
    {
     "name": "stdout",
     "output_type": "stream",
     "text": [
      "16384  :  0.170400835788\n"
     ]
    }
   ],
   "source": [
    "scores_train_size = [1-x for x in scores_train_layer2]\n",
    "scores_valid_size = [1-x for x in scores_valid_layer2]\n",
    "min_x = layer_sizes[np.argmin(scores_valid_size)]\n",
    "min_y = np.min(scores_valid_size)\n",
    "plt.plot(layer_sizes,scores_train_size, 'r--', color='b', label='train')\n",
    "plt.plot(layer_sizes, scores_valid_size, 'ro', color='g', label='valid')\n",
    "plt.plot(min_x, min_y, 'g^', color='r', label=\"min\")\n",
    "plt.ylabel(\"error (1-R^2)\")\n",
    "plt.xlabel(\"layer size\")\n",
    "plt.title(\"error in function of layer size\")\n",
    "plt.legend(bbox_to_anchor=(1.05, 1), loc=2, borderaxespad=0.)\n",
    "plt.show()\n",
    "\n",
    "print min_x, \" : \", min_y"
   ]
  },
  {
   "cell_type": "markdown",
   "metadata": {},
   "source": [
    "** Au final on peut dire que la couche cachée doit posséder le plus de neurones possibles **"
   ]
  },
  {
   "cell_type": "markdown",
   "metadata": {},
   "source": [
    "## Test du type de solver"
   ]
  },
  {
   "cell_type": "code",
   "execution_count": 43,
   "metadata": {
    "collapsed": false
   },
   "outputs": [
    {
     "name": "stdout",
     "output_type": "stream",
     "text": [
      "solver :  lbfgs\n",
      "score train :  0.831961223591\n",
      "score valid :  0.820957725858 \n",
      "\n",
      "solver :  adam\n",
      "score train :  0.815479833249\n",
      "score valid :  0.815690847963 \n",
      "\n"
     ]
    }
   ],
   "source": [
    "scores_train_solver = []\n",
    "scores_valid_solver = []\n",
    "solvers = [\"lbfgs\", \"adam\"] #sgd retiré\n",
    "\n",
    "for solver in solvers : \n",
    "    score_t = []\n",
    "    score_v = []\n",
    "    for i in range(0,10):\n",
    "        regressor = MLPRegressor(solver=solver)\n",
    "\n",
    "        regressor.fit(data_train_x, data_train_y)\n",
    "        score_train = regressor.score(data_train_x, data_train_y)\n",
    "        score_valid = regressor.score(data_valid_x, data_valid_y)\n",
    "\n",
    "        score_t.append(score_train)\n",
    "        score_v.append(score_valid)\n",
    "\n",
    "    scores_train_solver.append(np.mean(score_t))\n",
    "    scores_valid_solver.append(np.mean(score_v))\n",
    "    \n",
    "    print \"solver : \", solver\n",
    "    print \"score train : \", np.mean(score_t)\n",
    "    print \"score valid : \", np.mean(score_v), \"\\n\""
   ]
  },
  {
   "cell_type": "code",
   "execution_count": 44,
   "metadata": {
    "collapsed": false
   },
   "outputs": [
    {
     "data": {
      "image/png": "[encoded data removed]",
      "text/plain": [
       "<matplotlib.figure.Figure at 0x7fc9111c3ed0>"
      ]
     },
     "metadata": {},
     "output_type": "display_data"
    }
   ],
   "source": [
    "errors_train_solver = [1-x for x in scores_train_solver]\n",
    "errors_valid_solver = [1-x for x in scores_valid_solver]\n",
    "plt.plot(errors_train_solver, 'r--', label='train')\n",
    "plt.plot(errors_valid_solver, 'g^', label='valid')\n",
    "plt.legend(bbox_to_anchor=(1.05, 1), loc=2, borderaxespad=0.)\n",
    "plt.ylabel(\"error (1-R^2)\")\n",
    "plt.xlabel(\"solver\")\n",
    "plt.title(\"error in function of solver\")\n",
    "plt.xticks(range(len(solvers)), solvers, size='small')\n",
    "plt.show()"
   ]
  },
  {
   "cell_type": "markdown",
   "metadata": {},
   "source": [
    "** On peut voir que le solver le plus efficace ici est lbfgs **"
   ]
  },
  {
   "cell_type": "markdown",
   "metadata": {},
   "source": [
    "## Test de la valeur d'alpha"
   ]
  },
  {
   "cell_type": "code",
   "execution_count": 34,
   "metadata": {
    "collapsed": false
   },
   "outputs": [
    {
     "name": "stdout",
     "output_type": "stream",
     "text": [
      "alpha :  0.1\n",
      "score train :  0.837780769539\n",
      "score valid :  0.823415734472 \n",
      "\n",
      "alpha :  10\n",
      "score train :  0.835255788556\n",
      "score valid :  0.825985678956 \n",
      "\n",
      "alpha :  0.01\n",
      "score train :  0.835822292316\n",
      "score valid :  0.827040804485 \n",
      "\n",
      "alpha :  100\n",
      "score train :  0.835488199657\n",
      "score valid :  0.82884059534 \n",
      "\n",
      "alpha :  0.001\n",
      "score train :  0.836586266017\n",
      "score valid :  0.824435571018 \n",
      "\n",
      "alpha :  1000\n",
      "score train :  0.838204997801\n",
      "score valid :  0.829653236874 \n",
      "\n",
      "alpha :  0.0001\n",
      "score train :  0.838087061779\n",
      "score valid :  0.824259269937 \n",
      "\n",
      "alpha :  10000\n",
      "score train :  0.832765834383\n",
      "score valid :  0.822295143219 \n",
      "\n",
      "alpha :  1e-05\n",
      "score train :  0.836683782711\n",
      "score valid :  0.823918293514 \n",
      "\n",
      "alpha :  100000\n",
      "score train :  0.83585621517\n",
      "score valid :  0.826521969319 \n",
      "\n",
      "alpha :  1e-06\n",
      "score train :  0.835949229243\n",
      "score valid :  0.823303839239 \n",
      "\n",
      "alpha :  1000000\n",
      "score train :  0.836484704995\n",
      "score valid :  0.827075657284 \n",
      "\n",
      "alpha :  1e-07\n",
      "score train :  0.836343270483\n",
      "score valid :  0.828905559461 \n",
      "\n",
      "alpha :  10000000\n",
      "score train :  0.833988226681\n",
      "score valid :  0.826914691582 \n",
      "\n",
      "alpha :  1e-08\n",
      "score train :  0.835359182871\n",
      "score valid :  0.825290437075 \n",
      "\n",
      "alpha :  100000000\n",
      "score train :  0.837354337016\n",
      "score valid :  0.827622759557 \n",
      "\n",
      "alpha :  1e-09\n",
      "score train :  0.832884734146\n",
      "score valid :  0.824096727406 \n",
      "\n",
      "alpha :  1000000000\n",
      "score train :  0.829997160093\n",
      "score valid :  0.820799887633 \n",
      "\n",
      "0.842791843087\n",
      "0.829599164212\n"
     ]
    }
   ],
   "source": [
    "scores_train_alpha2 = []\n",
    "scores_valid_alpha2 = []\n",
    "\n",
    "alphas = list()\n",
    "for i in range(1, 10):\n",
    "    alphas.append(10**(-i))\n",
    "    alphas.append(10**(i))\n",
    "\n",
    "for alpha in alphas : \n",
    "    score_train = []\n",
    "    score_valid = []\n",
    "    for i in range(0,10):\n",
    "        regressor = MLPRegressor(alpha=alpha, solver=\"lbfgs\")\n",
    "\n",
    "        regressor.fit(data_train_x, data_train_y)\n",
    "        score_v = regressor.score(data_train_x, data_train_y)\n",
    "        score_t = regressor.score(data_valid_x, data_valid_y)    \n",
    "\n",
    "        score_train.append(score_v)\n",
    "        score_valid.append(score_t)\n",
    "        \n",
    "    scores_train_alpha2.append(np.mean(score_train))\n",
    "    scores_valid_alpha2.append(np.mean(score_valid))\n",
    "    \n",
    "    print \"alpha : \", alpha\n",
    "    print \"score train : \", np.max(score_train)\n",
    "    print \"score valid : \", np.max(score_valid), \"\\n\"\n",
    "    \n",
    "print np.mean(scores_t)\n",
    "print np.mean(scores_v)"
   ]
  },
  {
   "cell_type": "code",
   "execution_count": 38,
   "metadata": {
    "collapsed": false
   },
   "outputs": [
    {
     "data": {
      "image/png": "[encoded data removed]",
      "text/plain": [
       "<matplotlib.figure.Figure at 0x7fc911265e10>"
      ]
     },
     "metadata": {},
     "output_type": "display_data"
    },
    {
     "name": "stdout",
     "output_type": "stream",
     "text": [
      "10  :  0.177708511572\n"
     ]
    }
   ],
   "source": [
    "errors_train_alpha = [1-x for x in scores_train_alpha2]\n",
    "errors_valid_alpha = [1-x for x in scores_valid_alpha2]\n",
    "min_x = alphas[np.argmin(errors_valid_alpha)]\n",
    "min_y = np.min(errors_valid_alpha)\n",
    "plt.plot(alphas,errors_train_alpha, '*', color='b', label='train')\n",
    "plt.plot(alphas,errors_train_alpha, 'r--', color='b', label='train')\n",
    "plt.plot(alphas, errors_valid_alpha, 'ro', color='g', label='valid')\n",
    "plt.plot(min_x, min_y, 'g^', color='r', label=\"min\")\n",
    "plt.ylabel(\"error (1-R^2)\")\n",
    "plt.xlabel(\"alpha\")\n",
    "plt.title(\"error in function of alpha\")\n",
    "plt.legend(bbox_to_anchor=(1.05, 1), loc=2, borderaxespad=0.)\n",
    "plt.show()\n",
    "\n",
    "print min_x, \" : \", min_y"
   ]
  },
  {
   "cell_type": "markdown",
   "metadata": {},
   "source": [
    "La valeur qui renvoie le meilleur est pour un alpha de 10"
   ]
  },
  {
   "cell_type": "markdown",
   "metadata": {},
   "source": [
    "## Test du learning rate"
   ]
  },
  {
   "cell_type": "code",
   "execution_count": 270,
   "metadata": {
    "collapsed": false
   },
   "outputs": [
    {
     "name": "stdout",
     "output_type": "stream",
     "text": [
      "learning rate :  constant\n",
      "score train :  0.817036790519\n",
      "score valid :  0.81552249324 \n",
      "\n",
      "learning rate :  invscaling\n",
      "score train :  0.816691094466\n",
      "score valid :  0.816691120216 \n",
      "\n",
      "learning rate :  adaptive\n",
      "score train :  0.810879833487\n",
      "score valid :  0.814073743087 \n",
      "\n"
     ]
    }
   ],
   "source": [
    "scores_train_lr = []\n",
    "scores_valid_lr = []\n",
    "\n",
    "lrs = [\"constant\", \"invscaling\", \"adaptive\"]\n",
    "\n",
    "for lr in lrs : \n",
    "    regressor = MLPRegressor(learning_rate=lr)\n",
    "    \n",
    "    regressor.fit(data_train_x, data_train_y)\n",
    "    score_train = regressor.score(data_train_x, data_train_y)\n",
    "    score_valid = regressor.score(data_valid_x, data_valid_y)\n",
    "    \n",
    "    scores_train_lr.append(score_train)\n",
    "    scores_valid_lr.append(score_valid)\n",
    "    \n",
    "    print \"learning rate : \", lr\n",
    "    print \"score train : \", score_train\n",
    "    print \"score valid : \", score_valid, \"\\n\""
   ]
  },
  {
   "cell_type": "code",
   "execution_count": 271,
   "metadata": {
    "collapsed": false
   },
   "outputs": [
    {
     "data": {
      "image/png": "[encoded data removed]",
      "text/plain": [
       "<matplotlib.figure.Figure at 0x7f7ed4131090>"
      ]
     },
     "metadata": {},
     "output_type": "display_data"
    }
   ],
   "source": [
    "errors_train_lr = [1-x for x in scores_train_lr]\n",
    "errors_valid_lr = [1-x for x in scores_valid_lr]\n",
    "plt.plot(errors_train_lr, 'r--', label='train')\n",
    "plt.plot(errors_valid_lr, 'g^', label='valid')\n",
    "plt.legend(bbox_to_anchor=(1.05, 1), loc=2, borderaxespad=0.)\n",
    "plt.ylabel(\"error (1-R^2)\")\n",
    "plt.xlabel(\"learning rate\")\n",
    "plt.title(\"error in function of learning rate\")\n",
    "plt.xticks(range(len(lrs)), lrs, size='small')\n",
    "plt.show()"
   ]
  },
  {
   "cell_type": "markdown",
   "metadata": {},
   "source": [
    "On constate que le learning rate constant est plus performant (c'est celui par défaut)"
   ]
  },
  {
   "cell_type": "markdown",
   "metadata": {},
   "source": [
    "## Test de la valeur maximale d'itérations"
   ]
  },
  {
   "cell_type": "code",
   "execution_count": 39,
   "metadata": {
    "collapsed": false
   },
   "outputs": [
    {
     "name": "stdout",
     "output_type": "stream",
     "text": [
      "max iterations :  2\n",
      "score train :  -42.0370222924\n",
      "score valid :  -49.465070384 \n",
      "\n",
      "max iterations :  4\n",
      "score train :  -1.28309826426\n",
      "score valid :  -1.95934459708 \n",
      "\n",
      "max iterations :  8\n",
      "score train :  0.381515791606\n",
      "score valid :  0.318311013929 \n",
      "\n",
      "max iterations :  16\n",
      "score train :  0.736590175381\n",
      "score valid :  0.737533802468 \n",
      "\n",
      "max iterations :  32\n",
      "score train :  0.785893588326\n",
      "score valid :  0.785133743974 \n",
      "\n",
      "max iterations :  64\n",
      "score train :  0.80322441312\n",
      "score valid :  0.793540313298 \n",
      "\n",
      "max iterations :  128\n",
      "score train :  0.82567032488\n",
      "score valid :  0.813094583184 \n",
      "\n",
      "max iterations :  256\n",
      "score train :  0.845776879389\n",
      "score valid :  0.830087877386 \n",
      "\n",
      "max iterations :  512\n",
      "score train :  0.851855855698\n",
      "score valid :  0.83509874084 \n",
      "\n",
      "max iterations :  1024\n",
      "score train :  0.869766811702\n",
      "score valid :  0.845769917669 \n",
      "\n",
      "max iterations :  2048\n",
      "score train :  0.898502518342\n",
      "score valid :  0.867249221408 \n",
      "\n",
      "max iterations :  4096\n",
      "score train :  0.911532484207\n",
      "score valid :  0.845882625265 \n",
      "\n",
      "max iterations :  8192\n",
      "score train :  0.918822484823\n",
      "score valid :  0.897651492762 \n",
      "\n",
      "max iterations :  16384\n",
      "score train :  0.94211723601\n",
      "score valid :  0.892125169415 \n",
      "\n",
      "Best train :  0.927098941878\n",
      "Best valid :  0.873237417098\n"
     ]
    }
   ],
   "source": [
    "scores_train_mi2 = []\n",
    "scores_valid_mi2 = []\n",
    "\n",
    "iterations = list()\n",
    "for i in range(1, 15):\n",
    "    iterations.append(2**i)\n",
    "\n",
    "for mi in iterations : \n",
    "    score_train = []\n",
    "    score_valid = []\n",
    "    for i in range(0,10):\n",
    "        regressor = MLPRegressor(max_iter=mi, solver=\"lbfgs\", alpha=10)\n",
    "\n",
    "        regressor.fit(data_train_x, data_train_y)\n",
    "        score_t = regressor.score(data_train_x, data_train_y)\n",
    "        score_v = regressor.score(data_valid_x, data_valid_y)\n",
    "          \n",
    "        score_train.append(score_t)\n",
    "        score_valid.append(score_v)\n",
    "    \n",
    "    scores_train_mi2.append(np.mean(score_train))\n",
    "    scores_valid_mi2.append(np.mean(score_valid))\n",
    "    \n",
    "    print \"max iterations : \", mi\n",
    "    print \"score train : \", np.mean(score_t)\n",
    "    print \"score valid : \", np.mean(score_v), \"\\n\"\n",
    "    \n",
    "\n",
    "print \"Best train : \",np.max(scores_train_mi2)\n",
    "print \"Best valid : \",np.max(scores_valid_mi2)"
   ]
  },
  {
   "cell_type": "code",
   "execution_count": 41,
   "metadata": {
    "collapsed": false
   },
   "outputs": [
    {
     "data": {
      "image/png": "[encoded data removed]",
      "text/plain": [
       "<matplotlib.figure.Figure at 0x7fc911265690>"
      ]
     },
     "metadata": {},
     "output_type": "display_data"
    },
    {
     "name": "stdout",
     "output_type": "stream",
     "text": [
      "16384  :  0.126762582902\n"
     ]
    }
   ],
   "source": [
    "errors_train_mi = [1-x for x in scores_train_mi2]\n",
    "errors_valid_mi = [1-x for x in scores_valid_mi2]\n",
    "min_x = iterations[np.argmin(errors_valid_mi)]\n",
    "min_y = np.min(errors_valid_mi)\n",
    "plt.plot(iterations,errors_train_mi, '*', color='b', label='train')\n",
    "plt.plot(iterations,errors_train_mi, 'r--', color='b', label='train')\n",
    "plt.plot(iterations, errors_valid_mi, 'ro', color='g', label='valid')\n",
    "plt.plot(min_x, min_y, 'g^', color='r', label=\"min\")\n",
    "plt.ylabel(\"error (1-R^2)\")\n",
    "plt.xlabel(\"max iter\")\n",
    "plt.title(\"error in function of max iter\")\n",
    "plt.legend(bbox_to_anchor=(1.05, 1), loc=2, borderaxespad=0.)\n",
    "plt.show()\n",
    "\n",
    "print min_x, \" : \", min_y"
   ]
  },
  {
   "cell_type": "markdown",
   "metadata": {},
   "source": [
    "Plus il y a d'itérations mieux c'est"
   ]
  },
  {
   "cell_type": "code",
   "execution_count": 164,
   "metadata": {
    "collapsed": true
   },
   "outputs": [],
   "source": [
    "#Fonction de copie d'un regresseur\n",
    "def regressorCopy(reg):\n",
    "    reg2 = MLPRegressor()\n",
    "    reg2.loss_ = reg.loss_\n",
    "    reg2.coefs_ = reg.coefs_\n",
    "    reg2.intercepts_ = reg.intercepts_\n",
    "    reg2.n_iter_ = reg.n_iter_\n",
    "    reg2.n_layers_ = reg.n_layers_\n",
    "    reg2.n_outputs_ = reg.n_outputs_\n",
    "    reg2.out_activation_ = reg.out_activation_\n",
    "    \n",
    "    return reg2"
   ]
  },
  {
   "cell_type": "markdown",
   "metadata": {},
   "source": [
    "Après des test plus approfondis nous obtenons les hyper paramètres suivants : \n",
    "* activation : relu\n",
    "* taille de la couche cachée : 2¹⁴\n",
    "* solver : lbfgs\n",
    "* alpha : 10\n",
    "* learning rate : constant\n",
    "* nombre maximal d'itération : 2¹⁴"
   ]
  },
  {
   "cell_type": "code",
   "execution_count": null,
   "metadata": {
    "collapsed": false
   },
   "outputs": [],
   "source": [
    "regressor_final = MLPRegressor(activation='relu', hidden_layer_sizes=2**14, solver='lbfgs', \n",
    "                               alpha=10, learning_rate='constant', max_iter=2**14)\n",
    "   \n",
    "regressor_final.fit(data_train_x, data_train_y)\n",
    "\n",
    "score_final_train = regressor_final.score(data_train_x, data_train_y)\n",
    "score_final_valid = regressor_final.score(data_valid_x, data_valid_y)    \n",
    "score_final_test = regressor_final.score(data_test_x, data_test_y)\n",
    "\n",
    "predict_final_train = regressor_final.predict(data_train_x)\n",
    "predict_final_valid = regressor_final.predict(data_valid_x)\n",
    "predict_final_test = regressor_final.predict(data_test_x)"
   ]
  },
  {
   "cell_type": "code",
   "execution_count": 211,
   "metadata": {
    "collapsed": false
   },
   "outputs": [
    {
     "name": "stdout",
     "output_type": "stream",
     "text": [
      "score valid (R²):  0.999801004375\n",
      "score test (R²):  0.927723433369 \n",
      "\n",
      "score train (R²):  0.999833315908\n",
      "score valid (R²):  0.741449825832\n",
      "score test (R²):  0.721799083465\n"
     ]
    }
   ],
   "source": [
    "print \"score train (R²): \", score_final_train\n",
    "print \"score valid (R²): \", score_final_valid\n",
    "print \"score test (R²): \", score_final_test,\"\\n\"\n",
    "\n",
    "erreur_train, rsme_train = computeError(data_train_x, data_train_y, predict_final_train)\n",
    "erreur_train, rsme_valid = computeError(data_valid_x, data_valid_y, predict_valid_train)\n",
    "erreur_train, rsme_test = computeError(data_test_x, data_test_y, predict_final_test)\n",
    "\n",
    "print \"erreur train (R²): \", regressor_final.score(data_train_x, data_train_y)\n",
    "print \"score valid (R²): \", regressor_final.score(data_valid_x, data_valid_y)\n",
    "print \"score test (R²): \", regressor_final.score(data_test_x, data_test_y)"
   ]
  },
  {
   "cell_type": "code",
   "execution_count": null,
   "metadata": {
    "collapsed": true
   },
   "outputs": [],
   "source": [
    "regressor_final.fit(data_valid_x, data_valid_y)\n"
   ]
  },
  {
   "cell_type": "code",
   "execution_count": 219,
   "metadata": {
    "collapsed": false
   },
   "outputs": [
    {
     "name": "stdout",
     "output_type": "stream",
     "text": [
      "Erreur sur l'ensemble d'entrainement :  0.276315459742\n",
      "RSME sur l'ensemble d'entrainement :  57473.3741384\n"
     ]
    }
   ],
   "source": [
    "error_train = [0]\n",
    "rsme_train = [0]\n",
    "predict_final_train = regressor_final.predict(data_train_x)\n",
    "for i in range(len(data_train_x)):\n",
    "    error_train += np.abs(data_train_y[i]- predict_final_train[i])\n",
    "    rsme_train = (data_train_y[i] - predict_final_train[i])**2\n",
    "error_train /= len(data_train_x)\n",
    "\n",
    "print \"Erreur sur l'ensemble d'entrainement : \", error_train[0]/len(data_train_x)\n",
    "print \"RSME sur l'ensemble d'entrainement : \", rsme_train[0]\n"
   ]
  },
  {
   "cell_type": "code",
   "execution_count": 220,
   "metadata": {
    "collapsed": false
   },
   "outputs": [
    {
     "name": "stdout",
     "output_type": "stream",
     "text": [
      "Erreur sur l'ensemble de validation :  47.4755412571\n",
      "RSME sur l'ensemble de validation :  119207821.61\n"
     ]
    }
   ],
   "source": [
    "error_valid = 0\n",
    "rsme_valid= 0\n",
    "predict_final_valid = regressor_final.predict(data_valid_x)\n",
    "for i in range(len(data_valid_x)):\n",
    "    error_valid += np.abs(data_valid_y[i]- predict_final_valid[i])\n",
    "    rsme_valid = (data_valid_y[i] - predict_final_valid[i])**2\n",
    "error_valid /= len(data_valid_x)\n",
    "\n",
    "print \"Erreur sur l'ensemble de validation : \", error_valid[0]/len(data_valid_x)\n",
    "print \"RSME sur l'ensemble de validation : \", rsme_valid[0]"
   ]
  },
  {
   "cell_type": "code",
   "execution_count": 221,
   "metadata": {
    "collapsed": false
   },
   "outputs": [
    {
     "name": "stdout",
     "output_type": "stream",
     "text": [
      "Erreur sur l'ensemble de test :  50.0860597864\n",
      "RSME sur l'ensemble de test :  10112692.0546\n"
     ]
    }
   ],
   "source": [
    "error_test = 0\n",
    "rsme_test = 0\n",
    "predict_final_test = regressor_final.predict(data_test_x)\n",
    "for i in range(len(data_test_x)):\n",
    "    error_test += np.abs(data_test_y[i]- predict_final_test[i])\n",
    "    rsme_test = (data_test_y[i] - predict_final_test[i])**2\n",
    "error_test /= len(data_test_x)\n",
    "\n",
    "print \"Erreur sur l'ensemble de test : \", error_test[0]/len(data_test_x)\n",
    "print \"RSME sur l'ensemble de test : \", rsme_test[0]"
   ]
  },
  {
   "cell_type": "markdown",
   "metadata": {},
   "source": [
    "** Le dernier réseau de neurones entrainé obtient comme résultats : **\n",
    "\n",
    "** Sur l'ensemble d'entrainement un score (R²) de : 0.99 et une erreur de prédition de 4.11 **\n",
    "\n",
    "** Sur l'ensemble de validation un score (R²) de : 0.99 et une erreur de prédition de 485 **\n",
    "\n",
    "** Sur l'ensemble de test un score (R²) de : 0.99 et une erreur de prédition de 485 **"
   ]
  },
  {
   "cell_type": "markdown",
   "metadata": {
    "collapsed": true
   },
   "source": [
    "IFT 6390 : Fondement apprentissage machine - Université de Montréal"
   ]
  }
 ],
 "metadata": {
  "anaconda-cloud": {},
  "kernelspec": {
   "display_name": "Python [Root]",
   "language": "python",
   "name": "Python [Root]"
  },
  "language_info": {
   "codemirror_mode": {
    "name": "ipython",
    "version": 2
   },
   "file_extension": ".py",
   "mimetype": "text/x-python",
   "name": "python",
   "nbconvert_exporter": "python",
   "pygments_lexer": "ipython2",
   "version": "2.7.12"
  }
 },
 "nbformat": 4,
 "nbformat_minor": 0
}
